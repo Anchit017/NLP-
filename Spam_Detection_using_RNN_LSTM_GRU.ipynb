{
  "nbformat": 4,
  "nbformat_minor": 0,
  "metadata": {
    "colab": {
      "name": "LAB_4_Sequential_Data.ipynb",
      "provenance": [],
      "collapsed_sections": [],
      "machine_shape": "hm"
    },
    "kernelspec": {
      "name": "python3",
      "display_name": "Python 3"
    },
    "language_info": {
      "name": "python"
    },
    "accelerator": "GPU"
  },
  "cells": [
    {
      "cell_type": "markdown",
      "metadata": {
        "id": "_bphECiUa9zw"
      },
      "source": [
        "# Lab 4: Sequential Data\n",
        "\n",
        "This lab is based on an assignment developed by Prof. Lisa Zhang.\n",
        "\n",
        "In this assignment, we will build a recurrent neural network to classify a SMS text message\n",
        "as \"spam\" or \"not spam\". In the process, you will\n",
        "    \n",
        "1. Clean and process text data for machine learning.\n",
        "2. Understand and implement a character-level recurrent neural network.\n",
        "3. Use torchtext to build recurrent neural network models.\n",
        "4. Understand batching for a recurrent neural network, and use torchtext to implement RNN batching.\n",
        "5. Understand how transfer learning can be applied to NLP projects.\n",
        "\n",
        "### What to submit\n",
        "\n",
        "Submit an HTML file containing all your code, outputs, and write-up\n",
        "from parts A and B. You can produce a HTML file directly from Google Colab. The Colab instructions are provided at the end of this document.\n",
        "\n",
        "**Do not submit any other files produced by your code.**\n",
        "\n",
        "Include a link to your colab file in your submission.\n",
        "\n",
        "Please use Google Colab to complete this assignment. If you want to use Jupyter Notebook, please complete the assignment and upload your Jupyter Notebook file to Google Colab for submission. "
      ]
    },
    {
      "cell_type": "markdown",
      "metadata": {
        "id": "rWiUqJJTa9z6"
      },
      "source": [
        "## Colab Link\n",
        "\n",
        "Include a link to your colab file here\n",
        "\n",
        "Colab Link: https://colab.research.google.com/drive/1_IhEcdFQq94YT6hIqRcZtV_u4MXk1GG-?usp=sharing"
      ]
    },
    {
      "cell_type": "markdown",
      "metadata": {
        "id": "fFMdtipUPNdu"
      },
      "source": [
        "# PART A - Spam Detection [30 pt]\n",
        "\n",
        "In this part we will construct a LSTM model for identifying spam from non spam messages."
      ]
    },
    {
      "cell_type": "code",
      "metadata": {
        "id": "HgfNOUaPa9z8"
      },
      "source": [
        "import torch\n",
        "import torch.nn as nn\n",
        "import torch.nn.functional as F\n",
        "import torch.optim as optim\n",
        "import numpy as np\n",
        "import matplotlib.pyplot as plt"
      ],
      "execution_count": null,
      "outputs": []
    },
    {
      "cell_type": "markdown",
      "metadata": {
        "id": "M0jLI9LBa90C"
      },
      "source": [
        "## Part 1. Data Cleaning [10 pt]\n",
        "\n",
        "We will be using the \"SMS Spam Collection Data Set\" available at http://archive.ics.uci.edu/ml/datasets/SMS+Spam+Collection\n",
        "\n",
        "There is a link to download the \"Data Folder\" at the very top of the webpage. Download the zip file, unzip it, and upload the file `SMSSpamCollection` to Colab.    "
      ]
    },
    {
      "cell_type": "markdown",
      "metadata": {
        "id": "sSuF7C_Ga90E"
      },
      "source": [
        "### Part (a) [1 pt]\n",
        "\n",
        "Open up the file in Python, and print out one example of a spam SMS, and one example of a non-spam SMS.\n",
        "\n",
        "What is the label value for a spam message, and what is the label value for a non-spam message?"
      ]
    },
    {
      "cell_type": "code",
      "metadata": {
        "id": "I_IfXHeTa90F",
        "colab": {
          "base_uri": "https://localhost:8080/"
        },
        "outputId": "598d5181-2a71-40d1-d75b-0b891d383595"
      },
      "source": [
        "print_ham = True\n",
        "for line in open('SMSSpamCollection'):\n",
        "    if line.split()[0] == \"ham\" and print_ham:\n",
        "      print(\"1) Ham example: \", line[4:])\n",
        "      print(\"The corresponding label is: \", line.split()[0])\n",
        "      print_ham = False\n",
        "    elif line.split()[0] == \"spam\":\n",
        "      print(\"2) Spam example: \", line[4:])\n",
        "      print(\"The corresponding label is: \", line.split()[0])\n",
        "      break"
      ],
      "execution_count": null,
      "outputs": [
        {
          "output_type": "stream",
          "name": "stdout",
          "text": [
            "1) Ham example:  Go until jurong point, crazy.. Available only in bugis n great world la e buffet... Cine there got amore wat...\n",
            "\n",
            "The corresponding label is:  ham\n",
            "2) Spam example:  \tFree entry in 2 a wkly comp to win FA Cup final tkts 21st May 2005. Text FA to 87121 to receive entry question(std txt rate)T&C's apply 08452810075over18's\n",
            "\n",
            "The corresponding label is:  spam\n"
          ]
        }
      ]
    },
    {
      "cell_type": "markdown",
      "metadata": {
        "id": "AukA6vMVa90d"
      },
      "source": [
        "### Part (b) [1 pt]\n",
        "\n",
        "How many spam messages are there in the data set?\n",
        "How many non-spam messages are there in the data set?\n"
      ]
    },
    {
      "cell_type": "code",
      "metadata": {
        "id": "LgsqyemVa90e",
        "colab": {
          "base_uri": "https://localhost:8080/"
        },
        "outputId": "4e9ff209-92dc-4d92-a5db-0de22ce8137d"
      },
      "source": [
        "count_spam = 0\n",
        "count_ham = 0\n",
        "for line in open('SMSSpamCollection'):\n",
        "    if line.split()[0] == \"spam\":\n",
        "      count_spam += 1\n",
        "    else:\n",
        "      count_ham += 1\n",
        "\n",
        "print(\"The number of spam messages:\", count_spam)\n",
        "print(\"The number of ham messages:\", count_ham)"
      ],
      "execution_count": null,
      "outputs": [
        {
          "output_type": "stream",
          "name": "stdout",
          "text": [
            "The number of spam messages: 747\n",
            "The number of ham messages: 4827\n"
          ]
        }
      ]
    },
    {
      "cell_type": "markdown",
      "metadata": {
        "id": "d1WXxVt6a90h"
      },
      "source": [
        "### Part (c) [2 pt]\n",
        "\n",
        "We will be using the package `torchtext` to load, process, and batch the data.\n",
        "A tutorial to torchtext is available below. This tutorial uses the same\n",
        "Sentiment140 data set that we explored during lecture.\n",
        "\n",
        "https://medium.com/@sonicboom8/sentiment-analysis-torchtext-55fb57b1fab8\n",
        "\n",
        "Unlike what we did during lecture, we will be building a **character level RNN**.\n",
        "That is, we will treat each **character** as a token in our sequence,\n",
        "rather than each **word**.\n",
        "\n",
        "Identify two advantage and two disadvantage of modelling SMS text\n",
        "messages as a sequence of characters rather than a sequence of words."
      ]
    },
    {
      "cell_type": "markdown",
      "metadata": {
        "id": "cb_OXQHQ8siX"
      },
      "source": [
        "**ANSWER:**\n",
        "\n",
        "**Advantage:** \n",
        "\n",
        "1) The vocabulary is much smaller and would require less memory, and the computational cost would be low hence resulting in faster inference. \n",
        "\n",
        "2) Can take mis-spelling into consideration by treating them as special \"unknown\" token.\n",
        "\n",
        "**Disadvantage:**\n",
        "\n",
        "1) More tokens for one data sample, requires bigger hidden layer, thus making the model more complex and in addition it needs to learn the spelling of words as well.\n",
        "             \n",
        "2) The accuracy is would be lower than a word-based problem.\n",
        "\n"
      ]
    },
    {
      "cell_type": "code",
      "metadata": {
        "id": "TJYkFj2Cgflk"
      },
      "source": [
        ""
      ],
      "execution_count": null,
      "outputs": []
    },
    {
      "cell_type": "code",
      "metadata": {
        "id": "p0fCXNEt-Mix"
      },
      "source": [
        ""
      ],
      "execution_count": null,
      "outputs": []
    },
    {
      "cell_type": "markdown",
      "metadata": {
        "id": "ie_D0bv9a90k"
      },
      "source": [
        "### Part (d) [1 pt]\n",
        "\n",
        "We will be loading our data set using `torchtext.data.TabularDataset`. The\n",
        "constructor will read directly from the `SMSSpamCollection` file. \n",
        "\n",
        "For the data file to be read successfuly, we\n",
        "need to specify the **fields** (columns) in the file. \n",
        "In our case, the dataset has two fields: \n",
        "\n",
        "- a text field containing the sms messages,\n",
        "- a label field which will be converted into a binary label.\n",
        "\n",
        "Split the dataset into `train`, `valid`, and `test`. Use a 60-20-20 split.\n",
        "You may find this torchtext API page helpful:\n",
        "https://torchtext.readthedocs.io/en/latest/data.html#dataset\n",
        "\n",
        "Hint: There is a `Dataset` method that can perform the random split for you."
      ]
    },
    {
      "cell_type": "code",
      "metadata": {
        "id": "P_Y6Puz9a90l",
        "colab": {
          "base_uri": "https://localhost:8080/"
        },
        "outputId": "afed391a-bf07-42b8-ec95-b5cf122f3188"
      },
      "source": [
        "import torchtext\n",
        "\n",
        "text_field =  torchtext.legacy.data.Field(sequential=True,      # text sequence\n",
        "                                  tokenize=lambda x: x, # because are building a character-RNN\n",
        "                                  include_lengths=True, # to track the length of sequences, for batching\n",
        "                                  batch_first=True,\n",
        "                                  use_vocab=True)       # to turn each character into an integer index\n",
        "label_field =  torchtext.legacy.data.Field(sequential=False,    # not a sequence\n",
        "                                   use_vocab=False,     # don't need to track vocabulary\n",
        "                                   is_target=True,      \n",
        "                                   batch_first=True,\n",
        "                                   preprocessing=lambda x: int(x == 'spam')) # convert text to 0 and 1\n",
        "\n",
        "fields = [('label', label_field), ('sms', text_field)]\n",
        "dataset = torchtext.legacy.data.TabularDataset(\"SMSSpamCollection\", # name of the file\n",
        "                                        \"tsv\",               # fields are separated by a tab\n",
        "                                        fields)\n",
        "\n",
        "\n",
        "\n",
        "print(dataset[0].sms)\n",
        "print(dataset[0].label) \n",
        "train, valid, test = dataset.split([0.6, 0.2, 0.2], True) # reshuffle = True\n",
        "len(train), len(test)"
      ],
      "execution_count": null,
      "outputs": [
        {
          "output_type": "stream",
          "name": "stdout",
          "text": [
            "Go until jurong point, crazy.. Available only in bugis n great world la e buffet... Cine there got amore wat...\n",
            "0\n"
          ]
        },
        {
          "output_type": "execute_result",
          "data": {
            "text/plain": [
              "(3343, 1114)"
            ]
          },
          "metadata": {},
          "execution_count": 4
        }
      ]
    },
    {
      "cell_type": "code",
      "metadata": {
        "id": "9EOxqE1h59sI"
      },
      "source": [
        "# Spliting the dataset for Part B as well to prevent data leakage. Now the same dataset will be used in Part A and B for training and testing\n",
        "import pandas as pd\n",
        "# Function to convert tabulardata to dataframe\n",
        "def convert2df(data):\n",
        "  label = np.zeros(len(data))\n",
        "  text = np.empty([len(data)], dtype='<U100')\n",
        "  for i in range(0, len(data)):\n",
        "    label[i], text[i] = vars(data[i]).get('label'), vars(data[i]).get('sms')\n",
        "  \n",
        "  df = pd.DataFrame({'target': label, 'text': text})\n",
        "  return df"
      ],
      "execution_count": null,
      "outputs": []
    },
    {
      "cell_type": "code",
      "metadata": {
        "colab": {
          "base_uri": "https://localhost:8080/"
        },
        "id": "zgC3135s6HtD",
        "outputId": "edbc77fd-53ac-47c3-897a-80f8160ce836"
      },
      "source": [
        "# Train, Valid and Test sets (60,20,20) split\n",
        "df_trn = convert2df(train)\n",
        "df_val = convert2df(valid)\n",
        "df_test = convert2df(test)"
      ],
      "execution_count": null,
      "outputs": [
        {
          "output_type": "stream",
          "name": "stdout",
          "text": [
            "3343\n"
          ]
        }
      ]
    },
    {
      "cell_type": "code",
      "metadata": {
        "id": "UqN37DY16IxL"
      },
      "source": [
        "# Replaceing the labels in the target from 0-ham and 1-spam\n",
        "df_val['target'].replace(0,'ham',inplace=True)\n",
        "df_val['target'].replace(1,'spam',inplace=True)\n",
        "df_trn['target'].replace(0,'ham',inplace=True)\n",
        "df_trn['target'].replace(1,'spam',inplace=True)\n",
        "df_test['target'].replace(0,'ham',inplace=True)\n",
        "df_test['target'].replace(1,'spam',inplace=True)"
      ],
      "execution_count": null,
      "outputs": []
    },
    {
      "cell_type": "markdown",
      "metadata": {
        "id": "v6nP0Ks_a90o"
      },
      "source": [
        "### Part (e) [2 pt]\n",
        "\n",
        "You saw in part (b) that there are many more non-spam messages than spam messages.\n",
        "This **imbalance** in our training data will be problematic for training.\n",
        "We can fix this disparity by duplicating spam messages in the training set,\n",
        "so that the training set is roughly **balanced**.\n",
        "\n",
        "Explain why having a balanced training set is helpful for training our neural network.\n",
        "\n",
        "Note: if you are not sure, try removing the below code and train your mode."
      ]
    },
    {
      "cell_type": "code",
      "metadata": {
        "id": "FWvx9_rka90p",
        "colab": {
          "base_uri": "https://localhost:8080/"
        },
        "outputId": "8ec39188-b46c-486e-ecbe-9268c9ca126e"
      },
      "source": [
        "# save the original training examples\n",
        "old_train_examples = train.examples\n",
        "# get all the spam messages in `train`\n",
        "train_spam = []\n",
        "for item in train.examples:\n",
        "    if item.label == 1:\n",
        "        train_spam.append(item)\n",
        "# duplicate each spam message 6 more times\n",
        "train.examples = old_train_examples + train_spam * 6\n",
        "len(train)\n"
      ],
      "execution_count": null,
      "outputs": [
        {
          "output_type": "execute_result",
          "data": {
            "text/plain": [
              "6031"
            ]
          },
          "metadata": {},
          "execution_count": 5
        }
      ]
    },
    {
      "cell_type": "markdown",
      "metadata": {
        "id": "AnIJex5nATUq"
      },
      "source": [
        "**ANSWER:**\n",
        "\n",
        "The dataset needs to be balanced; otherwise, the model would predict all SMS as ham, and it would even get a high accuracy score as the majority of SMS is ham. However, the score would not accurately indicate the model's performance as it's just labeling all the SMS's as ham, including the spam. So it is crucial to have a balanced dataset so that the model can generalize well and doesn't skew to one class over the other.  \n"
      ]
    },
    {
      "cell_type": "code",
      "metadata": {
        "id": "Y6WfEK1yAOhu"
      },
      "source": [
        ""
      ],
      "execution_count": null,
      "outputs": []
    },
    {
      "cell_type": "markdown",
      "metadata": {
        "id": "j7eUmBEva90r"
      },
      "source": [
        "### Part (f) [1 pt]\n",
        "\n",
        "We need to build the vocabulary on the training data by running the below code.\n",
        "This finds all the possible character tokens in the training set.\n",
        "\n",
        "Explain what the variables `text_field.vocab.stoi` and `text_field.vocab.itos` represent."
      ]
    },
    {
      "cell_type": "code",
      "metadata": {
        "id": "8CQM8flKa90s",
        "colab": {
          "base_uri": "https://localhost:8080/"
        },
        "outputId": "507d9e4b-76bd-48c1-8fa3-bd55337de326"
      },
      "source": [
        "text_field.build_vocab(train)\n",
        "print(text_field.vocab.stoi)\n",
        "print(text_field.vocab.itos)"
      ],
      "execution_count": null,
      "outputs": [
        {
          "output_type": "stream",
          "name": "stdout",
          "text": [
            "defaultdict(<bound method Vocab._default_unk_index of <torchtext.legacy.vocab.Vocab object at 0x7f9ff2513c90>>, {'<unk>': 0, '<pad>': 1, ' ': 2, 'e': 3, 'o': 4, 't': 5, 'a': 6, 'n': 7, 'r': 8, 'i': 9, 's': 10, 'l': 11, 'u': 12, 'h': 13, '0': 14, 'd': 15, '.': 16, 'c': 17, 'm': 18, 'y': 19, 'w': 20, 'p': 21, 'g': 22, '1': 23, 'f': 24, 'b': 25, '2': 26, 'T': 27, '8': 28, 'k': 29, 'v': 30, 'E': 31, '5': 32, 'S': 33, 'C': 34, 'I': 35, 'O': 36, '7': 37, '4': 38, 'x': 39, 'A': 40, 'N': 41, '3': 42, '6': 43, '!': 44, 'R': 45, ',': 46, '9': 47, 'W': 48, 'P': 49, 'U': 50, 'M': 51, 'L': 52, 'H': 53, 'B': 54, 'D': 55, 'G': 56, 'Y': 57, '/': 58, 'F': 59, \"'\": 60, '?': 61, '£': 62, '-': 63, '&': 64, ':': 65, 'X': 66, 'z': 67, 'V': 68, 'j': 69, 'K': 70, '*': 71, ')': 72, ';': 73, 'J': 74, '+': 75, '(': 76, 'Q': 77, '\"': 78, 'q': 79, '#': 80, '>': 81, '=': 82, '@': 83, 'ü': 84, 'Z': 85, '$': 86, 'Ü': 87, '%': 88, '_': 89, '\\x92': 90, '|': 91, '‘': 92, '[': 93, ']': 94, '<': 95, '¡': 96, '“': 97, '…': 98, '\\x93': 99, 'ú': 100, '–': 101, '\\\\': 102, '\\x94': 103, 'é': 104, '\\t': 105, '\\n': 106, '~': 107, '\\x91': 108, '\\x96': 109, '’': 110, 'É': 111, 'è': 112})\n",
            "['<unk>', '<pad>', ' ', 'e', 'o', 't', 'a', 'n', 'r', 'i', 's', 'l', 'u', 'h', '0', 'd', '.', 'c', 'm', 'y', 'w', 'p', 'g', '1', 'f', 'b', '2', 'T', '8', 'k', 'v', 'E', '5', 'S', 'C', 'I', 'O', '7', '4', 'x', 'A', 'N', '3', '6', '!', 'R', ',', '9', 'W', 'P', 'U', 'M', 'L', 'H', 'B', 'D', 'G', 'Y', '/', 'F', \"'\", '?', '£', '-', '&', ':', 'X', 'z', 'V', 'j', 'K', '*', ')', ';', 'J', '+', '(', 'Q', '\"', 'q', '#', '>', '=', '@', 'ü', 'Z', '$', 'Ü', '%', '_', '\\x92', '|', '‘', '[', ']', '<', '¡', '“', '…', '\\x93', 'ú', '–', '\\\\', '\\x94', 'é', '\\t', '\\n', '~', '\\x91', '\\x96', '’', 'É', 'è']\n"
          ]
        }
      ]
    },
    {
      "cell_type": "markdown",
      "metadata": {
        "id": "-HVO9U03CkEB"
      },
      "source": [
        "**ANSWER:**\n",
        "\n",
        "1) **text_field.vocab.stoi** is a collections.defaultdict instance mapping token strings to numerical identifiers. That is, mapping every character to a number.\n",
        "\n",
        "\n",
        "2) **text_field.vocab.itos** is a list of token strings indexed by their numerical identifiers. That is, the list of characters in stoi with the same order."
      ]
    },
    {
      "cell_type": "markdown",
      "metadata": {
        "id": "TC8WVE8Ua90u"
      },
      "source": [
        "### Part (g) [1 pt]\n",
        "\n",
        "The tokens `<unk>` and `<pad>` were not in our SMS text messages.\n",
        "What do these two values represent?"
      ]
    },
    {
      "cell_type": "markdown",
      "metadata": {
        "id": "evnfaCMoDae1"
      },
      "source": [
        "**ANSWER:**\n",
        "                   \n",
        " 1) **\"unk\"** The string token is used to represent OOV words or unknown words.\n",
        " \n",
        " 2) **\"pad\"** The string token is used to represent padding, because when the model is training in batches, all sequences in the batch should have the same length, the padding will be used if the sequence of character has smaller length than the maximum length.\n"
      ]
    },
    {
      "cell_type": "code",
      "metadata": {
        "id": "y_4Er7KUa90v"
      },
      "source": [
        ""
      ],
      "execution_count": null,
      "outputs": []
    },
    {
      "cell_type": "markdown",
      "metadata": {
        "id": "Ff5CNk7Qa90y"
      },
      "source": [
        "### Part (h) [1 pt]\n",
        "\n",
        "Since text sequences are of variable length, `torchtext` provides a `BucketIterator` data loader,\n",
        "which batches similar length sequences together. The iterator also provides functionalities to\n",
        "pad sequences automatically.\n",
        "\n",
        "Take a look at 10 batches in `train_iter`. What is the maximum length of the\n",
        "input sequence in each batch? How many `<pad>` tokens are used in each of the 10\n",
        "batches?"
      ]
    },
    {
      "cell_type": "code",
      "metadata": {
        "id": "V8N8qLWOa90y"
      },
      "source": [
        "train_iter = torchtext.legacy.data.BucketIterator(train,\n",
        "                                           batch_size=32,\n",
        "                                           sort_key=lambda x: len(x.sms), # to minimize padding\n",
        "                                           sort_within_batch=True,        # sort within each batch\n",
        "                                           repeat=False)                  # repeat the iterator for many epochs"
      ],
      "execution_count": null,
      "outputs": []
    },
    {
      "cell_type": "code",
      "metadata": {
        "id": "Qwz-rOaha902",
        "colab": {
          "base_uri": "https://localhost:8080/"
        },
        "outputId": "c21c20fc-ef6a-4079-9f2f-e4e15e9f4b58"
      },
      "source": [
        "count = 1\n",
        "for batch in train_iter:\n",
        "# This is looped through the first 10 batches.\n",
        "    if count>10:\n",
        "      break\n",
        "    else:\n",
        "      print(\"Batch number is:\", count, \"The maximum length is:\", int(batch.sms[1][0]))\n",
        "      sum = 0\n",
        "      # Looping through each of the 32 sms's in a batch\n",
        "      for message in range(0, len(batch.sms[1])):\n",
        "        #Batch.sms[1][0] always represents the maximium length so we are subtracting it with the next message length to see how many pads are there. \n",
        "        sum = sum + batch.sms[1][0] - batch.sms[1][message]\n",
        "      print(\"For batch:\", count, \"The number of <pad> is:\", int(sum))\n",
        "      count = count+1\n"
      ],
      "execution_count": null,
      "outputs": [
        {
          "output_type": "stream",
          "name": "stdout",
          "text": [
            "Batch number is: 1 The maximum length is: 183\n",
            "For batch: 1 The number of <pad> is: 211\n",
            "Batch number is: 2 The maximum length is: 29\n",
            "For batch: 2 The number of <pad> is: 16\n",
            "Batch number is: 3 The maximum length is: 157\n",
            "For batch: 3 The number of <pad> is: 0\n",
            "Batch number is: 4 The maximum length is: 159\n",
            "For batch: 4 The number of <pad> is: 0\n",
            "Batch number is: 5 The maximum length is: 40\n",
            "For batch: 5 The number of <pad> is: 13\n",
            "Batch number is: 6 The maximum length is: 155\n",
            "For batch: 6 The number of <pad> is: 0\n",
            "Batch number is: 7 The maximum length is: 27\n",
            "For batch: 7 The number of <pad> is: 24\n",
            "Batch number is: 8 The maximum length is: 134\n",
            "For batch: 8 The number of <pad> is: 15\n",
            "Batch number is: 9 The maximum length is: 48\n",
            "For batch: 9 The number of <pad> is: 24\n",
            "Batch number is: 10 The maximum length is: 153\n",
            "For batch: 10 The number of <pad> is: 0\n"
          ]
        }
      ]
    },
    {
      "cell_type": "code",
      "metadata": {
        "id": "XplmARJvlY58"
      },
      "source": [
        ""
      ],
      "execution_count": null,
      "outputs": []
    },
    {
      "cell_type": "markdown",
      "metadata": {
        "id": "y7HnqP6_a904"
      },
      "source": [
        "## Part 2. Model Building [5 pt]\n",
        "\n",
        "Build a recurrent neural network model, using an architecture of your choosing. \n",
        "Use the one-hot embedding of each character as input to your recurrent network.\n",
        "Use one or more fully-connected layers to make the prediction based on your\n",
        "recurrent network output.\n",
        "\n",
        "Instead of using the RNN output value for the final token, another often used\n",
        "strategy is to max-pool over the entire output array. That is, instead of calling\n",
        "something like:\n",
        "\n",
        "```\n",
        "out, _ = self.rnn(x)\n",
        "self.fc(out[:, -1, :])\n",
        "```\n",
        "\n",
        "where `self.rnn` is an `nn.RNN`, `nn.GRU`, or `nn.LSTM` module, and `self.fc` is a \n",
        "fully-connected \n",
        "layer, we use:\n",
        "\n",
        "```\n",
        "out, _ = self.rnn(x)\n",
        "self.fc(torch.max(out, dim=1)[0])\n",
        "```\n",
        "\n",
        "This works reasonably in practice. An even better alternative is to concatenate the\n",
        "max-pooling and average-pooling of the RNN outputs:\n",
        "\n",
        "```\n",
        "out, _ = self.rnn(x)\n",
        "out = torch.cat([torch.max(out, dim=1)[0], \n",
        "                 torch.mean(out, dim=1)], dim=1)\n",
        "self.fc(out)\n",
        "```\n",
        "\n",
        "We encourage you to try out all these options. The way you pool the RNN outputs\n",
        "is one of the \"hyperparameters\" that you can choose to tune later on."
      ]
    },
    {
      "cell_type": "code",
      "metadata": {
        "id": "jHl1p_Wwa905",
        "colab": {
          "base_uri": "https://localhost:8080/"
        },
        "outputId": "58d99ac9-7d03-464f-c079-cdcc0f927ef4"
      },
      "source": [
        "# You might find this code helpful for obtaining\n",
        "# PyTorch one-hot vectors.\n",
        "\n",
        "ident = torch.eye(10)\n",
        "print(ident[0]) # one-hot vector\n",
        "print(ident[1]) # one-hot vector\n",
        "x = torch.tensor([[1, 2], [3, 4]])\n",
        "print(ident[x]) # one-hot vectors\n"
      ],
      "execution_count": null,
      "outputs": [
        {
          "output_type": "stream",
          "name": "stdout",
          "text": [
            "tensor([1., 0., 0., 0., 0., 0., 0., 0., 0., 0.])\n",
            "tensor([0., 1., 0., 0., 0., 0., 0., 0., 0., 0.])\n",
            "tensor([[[0., 1., 0., 0., 0., 0., 0., 0., 0., 0.],\n",
            "         [0., 0., 1., 0., 0., 0., 0., 0., 0., 0.]],\n",
            "\n",
            "        [[0., 0., 0., 1., 0., 0., 0., 0., 0., 0.],\n",
            "         [0., 0., 0., 0., 1., 0., 0., 0., 0., 0.]]])\n"
          ]
        }
      ]
    },
    {
      "cell_type": "code",
      "metadata": {
        "id": "4LTQ7zFka909",
        "colab": {
          "base_uri": "https://localhost:8080/"
        },
        "outputId": "7a51c313-a6c9-425b-b839-34c74569e996"
      },
      "source": [
        "# Input size of the text to be fed to the model\n",
        "input_size = len(text_field.vocab.itos)\n",
        "print(input_size)\n",
        "# To run the model on GPU\n",
        "device = torch.device('cuda' if torch.cuda.is_available() else 'cpu')"
      ],
      "execution_count": null,
      "outputs": [
        {
          "output_type": "stream",
          "name": "stdout",
          "text": [
            "113\n"
          ]
        }
      ]
    },
    {
      "cell_type": "code",
      "metadata": {
        "id": "iHcyY0Yj4gmJ"
      },
      "source": [
        "class RNN(nn.Module):\n",
        "    def __init__(self, input_size, hidden_size, num_classes):\n",
        "        self.name = \"RNN\"\n",
        "        super(RNN, self).__init__()\n",
        "        self.emb = torch.eye(input_size).to(device)\n",
        "        self.hidden_size = hidden_size\n",
        "        self.rnn = nn.RNN(input_size, hidden_size, batch_first=True)\n",
        "        self.fc = nn.Linear(hidden_size, num_classes)\n",
        "    \n",
        "    def forward(self, x):\n",
        "        # Look up the embedding\n",
        "        x = self.emb[x].to(device)\n",
        "        # Set an initial hidden state\n",
        "        h0 = torch.zeros(1, x.size(0), self.hidden_size).to(device)\n",
        "        # Forward propagate the RNN\n",
        "        out, _ = self.rnn(x, h0)\n",
        "        # Passing the output of the last time step to the classifier\n",
        "        out = self.fc(out[:, -1, :])\n",
        "        return out"
      ],
      "execution_count": null,
      "outputs": []
    },
    {
      "cell_type": "code",
      "metadata": {
        "id": "xg0cKdbg4gfg"
      },
      "source": [
        "class RNN_max(nn.Module):\n",
        "    def __init__(self, input_size, hidden_size, num_classes):\n",
        "        self.name = \"RNN_max\"\n",
        "        super(RNN_max, self).__init__()\n",
        "        self.emb = torch.eye(input_size).to(device)\n",
        "        self.hidden_size = hidden_size\n",
        "        self.rnn = nn.RNN(input_size, hidden_size, batch_first=True)\n",
        "        self.fc = nn.Linear(hidden_size, num_classes)\n",
        "    \n",
        "    def forward(self, x):\n",
        "        # Look up the embedding\n",
        "        x = self.emb[x].to(device)\n",
        "        # Set an initial hidden state\n",
        "        h0 = torch.zeros(1, x.size(0), self.hidden_size).to(device)\n",
        "        # Forward propagate the RNN\n",
        "        out, _ = self.rnn(x, h0)\n",
        "        # Pass the output of the RNN through a max-pool layer\n",
        "        out = self.fc(torch.max(out, dim=1)[0])\n",
        "        return out"
      ],
      "execution_count": null,
      "outputs": []
    },
    {
      "cell_type": "code",
      "metadata": {
        "id": "iG9EpSzdaTGF"
      },
      "source": [
        "class RNN_con(nn.Module):\n",
        "    def __init__(self, input_size, hidden_size, num_classes):\n",
        "        self.name = \"RNN_con\"\n",
        "        super(RNN_con, self).__init__()\n",
        "        self.emb = torch.eye(input_size).to(device)\n",
        "        self.hidden_size = hidden_size\n",
        "        self.rnn = nn.RNN(input_size, hidden_size, batch_first=True)\n",
        "        self.fc1 = nn.Linear(hidden_size*2, hidden_size)\n",
        "        self.fc2 = nn.Linear(hidden_size, num_classes) # Adding another fully connected layer\n",
        "    \n",
        "    def forward(self, x):\n",
        "        # Look up the embedding\n",
        "        x = self.emb[x].to(device)\n",
        "        # Set an initial hidden state\n",
        "        h0 = torch.zeros(1, x.size(0), self.hidden_size).to(device)\n",
        "        # Forward propagate the RNN\n",
        "        out, _ = self.rnn(x, h0)\n",
        "        # print('The first shape',torch.Tensor.size(out))\n",
        "        # Concatenating the max-pooling and average-pooling of the RNN outputs\n",
        "        out = torch.cat([torch.max(out, dim=1)[0], \n",
        "                 torch.mean(out, dim=1)], dim=1)\n",
        "        out = self.fc1(out)\n",
        "        out = self.fc2(out)\n",
        "        return out"
      ],
      "execution_count": null,
      "outputs": []
    },
    {
      "cell_type": "code",
      "metadata": {
        "id": "V6HkmVCt4goz"
      },
      "source": [
        "class GRU(nn.Module):\n",
        "    def __init__(self, input_size, hidden_size, num_classes):\n",
        "        self.name = \"GRU\"\n",
        "        super(GRU, self).__init__()\n",
        "        self.emb = torch.eye(input_size).to(device)\n",
        "        self.hidden_size = hidden_size\n",
        "        self.gru = nn.GRU(input_size, hidden_size, batch_first=True)\n",
        "        self.fc1 = nn.Linear(hidden_size*2, hidden_size)\n",
        "        self.fc2 = nn.Linear(hidden_size, num_classes)\n",
        "    \n",
        "    def forward(self, x):\n",
        "        # Look up the embedding\n",
        "        x = self.emb[x].to(device)\n",
        "        # Set an initial hidden state\n",
        "        h0 = torch.zeros(1, x.size(0), self.hidden_size).to(device)\n",
        "        # Forward propagate the GRU\n",
        "        out, _ = self.gru(x, h0)\n",
        "        # print('The first shape',torch.Tensor.size(out))\n",
        "        # Concatenating the max-pooling and average-pooling of the GRU outputs\n",
        "        out = torch.cat([torch.max(out, dim=1)[0], \n",
        "                 torch.mean(out, dim=1)], dim=1)\n",
        "        out = self.fc1(out)\n",
        "        out = self.fc2(out)\n",
        "        return out"
      ],
      "execution_count": null,
      "outputs": []
    },
    {
      "cell_type": "code",
      "metadata": {
        "id": "RemBHA_r4grm"
      },
      "source": [
        "class LSTM(nn.Module):\n",
        "    def __init__(self, input_size, hidden_size, num_classes):\n",
        "        self.name = \"LSTM\"\n",
        "        super(LSTM, self).__init__()\n",
        "        self.emb = torch.eye(input_size).to(device)\n",
        "        self.hidden_size = hidden_size\n",
        "        self.lstm = nn.LSTM(input_size, hidden_size, batch_first=True)\n",
        "        self.fc1 = nn.Linear(hidden_size*2, hidden_size)\n",
        "        self.fc2 = nn.Linear(hidden_size, num_classes)\n",
        "     \n",
        "    \n",
        "    def forward(self, x):\n",
        "        # Look up the embedding\n",
        "        x = self.emb[x].to(device)\n",
        "        # Set an initial hidden state\n",
        "        h0 = torch.zeros(1, x.size(0), self.hidden_size).to(device)\n",
        "        # set an initial cell state\n",
        "        c0 = torch.zeros(1, x.size(0), self.hidden_size).to(device)\n",
        "        # Forward propagate the LSTM\n",
        "        out, _ = self.lstm(x, (h0,c0))\n",
        "        # print('The first shape',torch.Tensor.size(out))\n",
        "        # Concatenating the max-pooling and average-pooling of the LSTM outputs\n",
        "        out = torch.cat([torch.max(out, dim=1)[0], \n",
        "                 torch.mean(out, dim=1)], dim=1)\n",
        "        out = self.fc1(out)\n",
        "        out = self.fc2(out)\n",
        "        return out"
      ],
      "execution_count": null,
      "outputs": []
    },
    {
      "cell_type": "code",
      "metadata": {
        "id": "3ZLWlgIX4guL"
      },
      "source": [
        "class LSTM_drop(nn.Module):\n",
        "    def __init__(self, input_size, hidden_size, num_classes):\n",
        "        self.name = \"LSTM_drop\"\n",
        "        super(LSTM_drop, self).__init__()\n",
        "        self.emb = torch.eye(input_size).to(device)\n",
        "        self.hidden_size = hidden_size\n",
        "        self.lstm = nn.LSTM(input_size, hidden_size, batch_first=True)\n",
        "        self.fc1 = nn.Linear(hidden_size*2, hidden_size)\n",
        "        self.fc2 = nn.Linear(hidden_size, num_classes)\n",
        "        self.drop = nn.Dropout(0.4) # Adding a dropout layer\n",
        "    \n",
        "    def forward(self, x):\n",
        "        # Look up the embedding\n",
        "        x = self.emb[x].to(device)\n",
        "        # Set an initial hidden state\n",
        "        h0 = torch.zeros(1, x.size(0), self.hidden_size).to(device)\n",
        "        # set an initial cell state\n",
        "        c0 = torch.zeros(1, x.size(0), self.hidden_size).to(device)\n",
        "        # Forward propagate the LSTM\n",
        "        out, _ = self.lstm(x, (h0,c0))\n",
        "        # print('The first shape',torch.Tensor.size(out))\n",
        "        # Concatenating the max-pooling and average-pooling of the LSTM outputs\n",
        "        out = torch.cat([torch.max(out, dim=1)[0], \n",
        "                 torch.mean(out, dim=1)], dim=1)\n",
        "        out = self.fc1(self.drop(out)) # Implementing the dropout on the first fully connected layer\n",
        "        out = self.fc2(out)\n",
        "        return out"
      ],
      "execution_count": null,
      "outputs": []
    },
    {
      "cell_type": "markdown",
      "metadata": {
        "id": "vKIYPl_Ba90_"
      },
      "source": [
        "## Part 3. Training [8 pt]\n",
        "\n",
        "### Part (a) [2 pt]\n",
        "\n",
        "Complete the `get_accuracy` function, which will compute the\n",
        "accuracy (rate) of your model across a dataset (e.g. validation set).\n",
        "You may modify `torchtext.data.BucketIterator` to make your computation\n",
        "faster."
      ]
    },
    {
      "cell_type": "code",
      "metadata": {
        "id": "pvNfhGD6a91A"
      },
      "source": [
        "def get_accuracy(model, data, batch_size):\n",
        "\n",
        "    data_loader = torchtext.legacy.data.BucketIterator(data,\n",
        "                                           batch_size=batch_size,\n",
        "                                           sort_key=lambda x: len(x.sms), # to minimize padding\n",
        "                                           sort_within_batch=True,        # sort within each batch\n",
        "                                           repeat=False)                 # repeat the iterator for many epochs\n",
        "    \n",
        "    model.eval()\n",
        "    correct, total = 0, 0\n",
        "    for message, labels in data_loader:\n",
        "        output = model(message[0].to(device))\n",
        "        pred = output.max(1, keepdim=True)[1]\n",
        "        correct += pred.eq(labels.view_as(pred).to(device)).sum().item()\n",
        "        total += labels.shape[0]\n",
        "    return correct / total"
      ],
      "execution_count": null,
      "outputs": []
    },
    {
      "cell_type": "markdown",
      "metadata": {
        "id": "TlxlcAC1a91C"
      },
      "source": [
        "### Part (b) [2 pt]\n",
        "\n",
        "Train your model. Plot the training curve of your final model. \n",
        "Your training curve should have the training/validation loss and\n",
        "accuracy plotted periodically.\n",
        "\n",
        "Note: Not all of your batches will have the same batch size.\n",
        "In particular, if your training set does not divide evenly by\n",
        "your batch size, there will be a batch that is smaller than\n",
        "the rest. "
      ]
    },
    {
      "cell_type": "code",
      "metadata": {
        "id": "CVtf7CJCa91D"
      },
      "source": [
        "def train_rnn_network(model, train, valid, batch_size, num_epochs=5, learning_rate=1e-5):\n",
        "    criterion = nn.CrossEntropyLoss()\n",
        "    optimizer = torch.optim.Adam(model.parameters(), lr=learning_rate)\n",
        "    train_losses, valid_losses, train_acc, valid_acc = [], [], [], []\n",
        "    epochs = []\n",
        "    train_loader = torchtext.legacy.data.BucketIterator(train,\n",
        "                                           batch_size=batch_size,\n",
        "                                           sort_key=lambda x: len(x.sms), \n",
        "                                           sort_within_batch=True,        \n",
        "                                           repeat=False)     \n",
        "    valid_loader = torchtext.legacy.data.BucketIterator(valid,\n",
        "                                           batch_size=batch_size,\n",
        "                                           sort_key=lambda x: len(x.sms), \n",
        "                                           sort_within_batch=True,        \n",
        "                                           repeat=False)\n",
        "\n",
        "    for epoch in range(num_epochs):\n",
        "        model.train()\n",
        "        # The training loop\n",
        "        for message, labels in train_loader:\n",
        "            optimizer.zero_grad()\n",
        "            pred = model(message[0].to(device))\n",
        "            loss = criterion(pred, labels.to(device))\n",
        "            loss.backward()\n",
        "            optimizer.step()\n",
        "        train_losses.append(float(loss))\n",
        "         # Validation loop\n",
        "        for message, labels in valid_loader:\n",
        "            pred = model(message[0].to(device))\n",
        "            loss = criterion(pred, labels.to(device))\n",
        "        valid_losses.append(float(loss))\n",
        "\n",
        "        epochs.append(epoch)\n",
        "        train_acc.append(get_accuracy(model, train, batch_size))\n",
        "        valid_acc.append(get_accuracy(model, valid, batch_size))\n",
        "        print(\"Epoch %d; Loss %f; Train Acc %f; Val Acc %f\" % (epoch+1, loss, train_acc[-1], valid_acc[-1]))\n",
        "        # Saving the model for every 5 epochs and at the last epoch \n",
        "        if epoch % 5 == 0 or epoch == num_epochs:\n",
        "          model_path = \"/content/model_{0}\".format(model.name)\n",
        "          torch.save(model.state_dict(), model_path)\n",
        "\n",
        " # Plotting the Training and Validation curves wrt Epoch and Loss\n",
        "    plt.title(\"Training Curve\")\n",
        "    plt.plot(train_losses, label=\"Train\")\n",
        "    plt.plot(valid_losses, label=\"Validation\")\n",
        "    plt.xlabel(\"Epoch\")\n",
        "    plt.ylabel(\"Loss\")\n",
        "    plt.legend()\n",
        "    plt.show()\n",
        "# Training and Validation curves wrt Epoch and Accuracy\n",
        "    plt.title(\"Training Curve\")\n",
        "    plt.plot(epochs, train_acc, label=\"Train\")\n",
        "    plt.plot(epochs, valid_acc, label=\"Validation\")\n",
        "    plt.xlabel(\"Epoch\")\n",
        "    plt.ylabel(\"Accuracy\")\n",
        "    plt.legend()\n",
        "    plt.show()"
      ],
      "execution_count": null,
      "outputs": []
    },
    {
      "cell_type": "code",
      "metadata": {
        "colab": {
          "base_uri": "https://localhost:8080/",
          "height": 908
        },
        "id": "QWLszrYb5hCn",
        "outputId": "a6550861-8bd5-4104-da5e-09d21b52e265"
      },
      "source": [
        "# Model 1 RNN with out = self.fc(out[:, -1, :])\n",
        "# h_size = 100, epochs = 20, lr = 0.00001\n",
        "model = RNN(input_size, hidden_size = 100, num_classes = 2).to(device)   \n",
        "train_rnn_network(model, train, valid, batch_size = 64, num_epochs = 20, learning_rate = 1e-5)"
      ],
      "execution_count": null,
      "outputs": [
        {
          "output_type": "stream",
          "name": "stdout",
          "text": [
            "Epoch 1; Loss 0.651670; Train Acc 0.526281; Val Acc 0.861883\n",
            "Epoch 2; Loss 0.690052; Train Acc 0.532084; Val Acc 0.861883\n",
            "Epoch 3; Loss 0.652590; Train Acc 0.543359; Val Acc 0.859193\n",
            "Epoch 4; Loss 0.695398; Train Acc 0.555795; Val Acc 0.858296\n",
            "Epoch 5; Loss 0.689407; Train Acc 0.571879; Val Acc 0.856502\n",
            "Epoch 6; Loss 0.650492; Train Acc 0.595755; Val Acc 0.854709\n",
            "Epoch 7; Loss 0.655809; Train Acc 0.609849; Val Acc 0.852915\n",
            "Epoch 8; Loss 0.699538; Train Acc 0.630575; Val Acc 0.850224\n",
            "Epoch 9; Loss 0.655602; Train Acc 0.645001; Val Acc 0.844843\n",
            "Epoch 10; Loss 0.664956; Train Acc 0.660587; Val Acc 0.843946\n",
            "Epoch 11; Loss 0.660950; Train Acc 0.672691; Val Acc 0.843946\n",
            "Epoch 12; Loss 0.687158; Train Acc 0.693252; Val Acc 0.841256\n",
            "Epoch 13; Loss 0.655883; Train Acc 0.713149; Val Acc 0.842152\n",
            "Epoch 14; Loss 0.657114; Train Acc 0.721771; Val Acc 0.834978\n",
            "Epoch 15; Loss 0.656119; Train Acc 0.725750; Val Acc 0.833184\n",
            "Epoch 16; Loss 0.656436; Train Acc 0.732383; Val Acc 0.832287\n",
            "Epoch 17; Loss 0.694236; Train Acc 0.733543; Val Acc 0.827803\n",
            "Epoch 18; Loss 0.681501; Train Acc 0.749959; Val Acc 0.835874\n",
            "Epoch 19; Loss 0.688944; Train Acc 0.760239; Val Acc 0.830493\n",
            "Epoch 20; Loss 0.657438; Train Acc 0.773172; Val Acc 0.833184\n"
          ]
        },
        {
          "output_type": "display_data",
          "data": {
            "image/png": "[encoded data removed]",
            "text/plain": [
              "<Figure size 432x288 with 1 Axes>"
            ]
          },
          "metadata": {
            "needs_background": "light"
          }
        },
        {
          "output_type": "display_data",
          "data": {
            "image/png": "[encoded data removed]",
            "text/plain": [
              "<Figure size 432x288 with 1 Axes>"
            ]
          },
          "metadata": {
            "needs_background": "light"
          }
        }
      ]
    },
    {
      "cell_type": "markdown",
      "metadata": {
        "id": "xyzX8--zKnGM"
      },
      "source": [
        "This model isn't performing well as the validation accuracy is higher than the training."
      ]
    },
    {
      "cell_type": "code",
      "metadata": {
        "id": "0gDoG5-B5hJp"
      },
      "source": [
        ""
      ],
      "execution_count": null,
      "outputs": []
    },
    {
      "cell_type": "code",
      "metadata": {
        "id": "emxsy86s5hQ7"
      },
      "source": [
        ""
      ],
      "execution_count": null,
      "outputs": []
    },
    {
      "cell_type": "markdown",
      "metadata": {
        "id": "fE3eRkDAa91F"
      },
      "source": [
        "### Part (c) [2 pt]\n",
        "\n",
        "Choose at least 4 hyperparameters to tune. Explain how you tuned the hyperparameters.\n",
        "You don't need to include your training curve for every model you trained.\n",
        "Instead, explain what hyperparemters you tuned, what the best validation accuracy was,\n",
        "and the reasoning behind the hyperparameter decisions you made.\n",
        "\n",
        "For this assignment, you should tune more than just your learning rate and epoch. \n",
        "Choose at least 2 hyperparameters that are unrelated to the optimizer."
      ]
    },
    {
      "cell_type": "code",
      "metadata": {
        "id": "A2GEWfDca91G",
        "colab": {
          "base_uri": "https://localhost:8080/",
          "height": 1000
        },
        "outputId": "b36098b0-c1d2-4304-a47b-6f576358393f"
      },
      "source": [
        "# Model 2 RNN with out = self.fc(out[:, -1, :])\n",
        "# h_size = 250, epochs = 30, lr = 0.001\n",
        "model = RNN(input_size, hidden_size = 250, num_classes = 2).to(device)   \n",
        "train_rnn_network(model, train, valid, batch_size = 64, num_epochs = 30, learning_rate = 1e-3)"
      ],
      "execution_count": null,
      "outputs": [
        {
          "output_type": "stream",
          "name": "stdout",
          "text": [
            "Epoch 1; Loss 0.403475; Train Acc 0.788426; Val Acc 0.864574\n",
            "Epoch 2; Loss 0.664028; Train Acc 0.791245; Val Acc 0.878924\n",
            "Epoch 3; Loss 0.198074; Train Acc 0.906815; Val Acc 0.929148\n",
            "Epoch 4; Loss 0.882360; Train Acc 0.910131; Val Acc 0.920179\n",
            "Epoch 5; Loss 0.402980; Train Acc 0.887581; Val Acc 0.852915\n",
            "Epoch 6; Loss 0.703955; Train Acc 0.673520; Val Acc 0.466368\n",
            "Epoch 7; Loss 0.097363; Train Acc 0.931355; Val Acc 0.955157\n",
            "Epoch 8; Loss 0.617008; Train Acc 0.766540; Val Acc 0.714798\n",
            "Epoch 9; Loss 0.340264; Train Acc 0.916598; Val Acc 0.932735\n",
            "Epoch 10; Loss 0.128623; Train Acc 0.898690; Val Acc 0.969507\n",
            "Epoch 11; Loss 0.186080; Train Acc 0.923396; Val Acc 0.973094\n",
            "Epoch 12; Loss 0.267048; Train Acc 0.930028; Val Acc 0.972197\n",
            "Epoch 13; Loss 0.654659; Train Acc 0.742497; Val Acc 0.668161\n",
            "Epoch 14; Loss 0.546542; Train Acc 0.505057; Val Acc 0.499552\n",
            "Epoch 15; Loss 0.781541; Train Acc 0.483668; Val Acc 0.493274\n",
            "Epoch 16; Loss 0.692097; Train Acc 0.703698; Val Acc 0.460090\n",
            "Epoch 17; Loss 0.724360; Train Acc 0.590118; Val Acc 0.453812\n",
            "Epoch 18; Loss 0.809227; Train Acc 0.540706; Val Acc 0.486099\n",
            "Epoch 19; Loss 0.680926; Train Acc 0.541038; Val Acc 0.507623\n",
            "Epoch 20; Loss 0.684193; Train Acc 0.658929; Val Acc 0.540807\n",
            "Epoch 21; Loss 0.626108; Train Acc 0.595092; Val Acc 0.562332\n",
            "Epoch 22; Loss 0.737439; Train Acc 0.549826; Val Acc 0.526457\n",
            "Epoch 23; Loss 0.772055; Train Acc 0.545349; Val Acc 0.531839\n",
            "Epoch 24; Loss 0.667017; Train Acc 0.658266; Val Acc 0.704933\n",
            "Epoch 25; Loss 0.868430; Train Acc 0.564251; Val Acc 0.582063\n",
            "Epoch 26; Loss 0.399318; Train Acc 0.642348; Val Acc 0.663677\n",
            "Epoch 27; Loss 0.438586; Train Acc 0.908639; Val Acc 0.903139\n",
            "Epoch 28; Loss 0.929806; Train Acc 0.588957; Val Acc 0.660090\n",
            "Epoch 29; Loss 0.824143; Train Acc 0.794893; Val Acc 0.829596\n",
            "Epoch 30; Loss 0.319846; Train Acc 0.779639; Val Acc 0.781166\n"
          ]
        },
        {
          "output_type": "display_data",
          "data": {
            "image/png": "[encoded data removed]",
            "text/plain": [
              "<Figure size 432x288 with 1 Axes>"
            ]
          },
          "metadata": {
            "needs_background": "light"
          }
        },
        {
          "output_type": "display_data",
          "data": {
            "image/png": "[encoded data removed]",
            "text/plain": [
              "<Figure size 432x288 with 1 Axes>"
            ]
          },
          "metadata": {
            "needs_background": "light"
          }
        }
      ]
    },
    {
      "cell_type": "markdown",
      "metadata": {
        "id": "QByCXw7bNMcF"
      },
      "source": [
        "This is better than before but the accuracy score is too low on both training and validation."
      ]
    },
    {
      "cell_type": "code",
      "metadata": {
        "colab": {
          "base_uri": "https://localhost:8080/",
          "height": 908
        },
        "id": "Fj5ceGhZ-f7r",
        "outputId": "6a822089-a76a-4f13-9010-b3bed0081703"
      },
      "source": [
        "# Model 3 RNN with Max pool layer out = self.fc(torch.max(out, dim=1)[0])\n",
        "# h_size = 100, epochs = 20, lr = 0.001\n",
        "model = RNN_max(input_size, hidden_size = 100, num_classes = 2).to(device)   \n",
        "train_rnn_network(model, train, valid, batch_size = 64, num_epochs = 20, learning_rate = 1e-3)"
      ],
      "execution_count": null,
      "outputs": [
        {
          "output_type": "stream",
          "name": "stdout",
          "text": [
            "Epoch 1; Loss 0.322351; Train Acc 0.909468; Val Acc 0.979372\n",
            "Epoch 2; Loss 0.170579; Train Acc 0.956392; Val Acc 0.943498\n",
            "Epoch 3; Loss 0.060732; Train Acc 0.963688; Val Acc 0.959641\n",
            "Epoch 4; Loss 0.038941; Train Acc 0.945946; Val Acc 0.978475\n",
            "Epoch 5; Loss 0.075805; Train Acc 0.969657; Val Acc 0.973094\n",
            "Epoch 6; Loss 0.061869; Train Acc 0.970486; Val Acc 0.957848\n",
            "Epoch 7; Loss 0.165935; Train Acc 0.967004; Val Acc 0.956951\n",
            "Epoch 8; Loss 0.058328; Train Acc 0.979937; Val Acc 0.974888\n",
            "Epoch 9; Loss 0.084414; Train Acc 0.983419; Val Acc 0.980269\n",
            "Epoch 10; Loss 0.072769; Train Acc 0.988393; Val Acc 0.980269\n",
            "Epoch 11; Loss 0.039990; Train Acc 0.988227; Val Acc 0.984753\n",
            "Epoch 12; Loss 0.041730; Train Acc 0.987564; Val Acc 0.989238\n",
            "Epoch 13; Loss 0.011961; Train Acc 0.989388; Val Acc 0.988341\n",
            "Epoch 14; Loss 0.170128; Train Acc 0.993036; Val Acc 0.990135\n",
            "Epoch 15; Loss 0.009289; Train Acc 0.993533; Val Acc 0.990135\n",
            "Epoch 16; Loss 0.008102; Train Acc 0.994031; Val Acc 0.989238\n",
            "Epoch 17; Loss 0.085993; Train Acc 0.992539; Val Acc 0.991031\n",
            "Epoch 18; Loss 0.037176; Train Acc 0.996684; Val Acc 0.988341\n",
            "Epoch 19; Loss 0.075905; Train Acc 0.999337; Val Acc 0.990135\n",
            "Epoch 20; Loss 0.001241; Train Acc 0.998176; Val Acc 0.989238\n"
          ]
        },
        {
          "output_type": "display_data",
          "data": {
            "image/png": "[encoded data removed]",
            "text/plain": [
              "<Figure size 432x288 with 1 Axes>"
            ]
          },
          "metadata": {
            "needs_background": "light"
          }
        },
        {
          "output_type": "display_data",
          "data": {
            "image/png": "[encoded data removed]",
            "text/plain": [
              "<Figure size 432x288 with 1 Axes>"
            ]
          },
          "metadata": {
            "needs_background": "light"
          }
        }
      ]
    },
    {
      "cell_type": "markdown",
      "metadata": {
        "id": "ORjyr3luNhgu"
      },
      "source": [
        "This is a much better model with high accuracy on training and validation set."
      ]
    },
    {
      "cell_type": "code",
      "metadata": {
        "colab": {
          "base_uri": "https://localhost:8080/",
          "height": 1000
        },
        "id": "W4PS0tf9-gDp",
        "outputId": "55c5e613-d3f2-4360-af8e-adcae351dc05"
      },
      "source": [
        "# Model 4 RNN with Max pool layer out = self.fc(torch.max(out, dim=1)[0])\n",
        "# h_size = 150, epochs = 29, lr = 0.00001 and batch = 32\n",
        "model = RNN_con(input_size, hidden_size = 150, num_classes = 2).to(device)   \n",
        "train_rnn_network(model, train, valid, batch_size = 32, num_epochs = 29, learning_rate = 1e-5)"
      ],
      "execution_count": null,
      "outputs": [
        {
          "output_type": "stream",
          "name": "stdout",
          "text": [
            "Epoch 1; Loss 0.686064; Train Acc 0.809484; Val Acc 0.869058\n",
            "Epoch 2; Loss 0.696157; Train Acc 0.522136; Val Acc 0.135426\n",
            "Epoch 3; Loss 0.714602; Train Acc 0.520975; Val Acc 0.135426\n",
            "Epoch 4; Loss 0.719349; Train Acc 0.521638; Val Acc 0.138117\n",
            "Epoch 5; Loss 0.724272; Train Acc 0.522799; Val Acc 0.140807\n",
            "Epoch 6; Loss 0.716237; Train Acc 0.522799; Val Acc 0.140807\n",
            "Epoch 7; Loss 0.733201; Train Acc 0.559111; Val Acc 0.205381\n",
            "Epoch 8; Loss 0.706016; Train Acc 0.749793; Val Acc 0.555157\n",
            "Epoch 9; Loss 0.637129; Train Acc 0.936992; Val Acc 0.947085\n",
            "Epoch 10; Loss 0.451115; Train Acc 0.900514; Val Acc 0.923767\n",
            "Epoch 11; Loss 0.479380; Train Acc 0.926712; Val Acc 0.886099\n",
            "Epoch 12; Loss 0.337758; Train Acc 0.941635; Val Acc 0.911211\n",
            "Epoch 13; Loss 0.515658; Train Acc 0.940640; Val Acc 0.942601\n",
            "Epoch 14; Loss 0.321570; Train Acc 0.948101; Val Acc 0.948879\n",
            "Epoch 15; Loss 0.471482; Train Acc 0.950754; Val Acc 0.944395\n",
            "Epoch 16; Loss 0.248621; Train Acc 0.952578; Val Acc 0.947085\n",
            "Epoch 17; Loss 0.144235; Train Acc 0.955065; Val Acc 0.954260\n",
            "Epoch 18; Loss 0.118179; Train Acc 0.955563; Val Acc 0.959641\n",
            "Epoch 19; Loss 0.215012; Train Acc 0.957553; Val Acc 0.948879\n",
            "Epoch 20; Loss 0.102539; Train Acc 0.959377; Val Acc 0.952466\n",
            "Epoch 21; Loss 0.055702; Train Acc 0.955563; Val Acc 0.963229\n",
            "Epoch 22; Loss 0.084048; Train Acc 0.965180; Val Acc 0.962332\n",
            "Epoch 23; Loss 0.045032; Train Acc 0.964351; Val Acc 0.961435\n",
            "Epoch 24; Loss 0.206403; Train Acc 0.960869; Val Acc 0.965919\n",
            "Epoch 25; Loss 0.024006; Train Acc 0.963522; Val Acc 0.965919\n",
            "Epoch 26; Loss 0.028978; Train Acc 0.962195; Val Acc 0.969507\n",
            "Epoch 27; Loss 0.105995; Train Acc 0.970486; Val Acc 0.955157\n",
            "Epoch 28; Loss 0.103202; Train Acc 0.969988; Val Acc 0.971300\n",
            "Epoch 29; Loss 0.062980; Train Acc 0.966341; Val Acc 0.972197\n"
          ]
        },
        {
          "output_type": "display_data",
          "data": {
            "image/png": "[encoded data removed]",
            "text/plain": [
              "<Figure size 432x288 with 1 Axes>"
            ]
          },
          "metadata": {
            "needs_background": "light"
          }
        },
        {
          "output_type": "display_data",
          "data": {
            "image/png": "[encoded data removed]",
            "text/plain": [
              "<Figure size 432x288 with 1 Axes>"
            ]
          },
          "metadata": {
            "needs_background": "light"
          }
        }
      ]
    },
    {
      "cell_type": "markdown",
      "metadata": {
        "id": "7lDOImPpN7ag"
      },
      "source": [
        "Here the model did better but the validation score is mostly higher than the training score indicating some kind of noise in the dataset. "
      ]
    },
    {
      "cell_type": "code",
      "metadata": {
        "colab": {
          "base_uri": "https://localhost:8080/",
          "height": 1000
        },
        "id": "GYUN-JJR-gGZ",
        "outputId": "3df432f3-aef3-4502-a11b-d1f5f4b06f41"
      },
      "source": [
        "# Model 5 GRU with Max pool layer out = self.fc(torch.max(out, dim=1)[0])\n",
        "# h_size = 150, epochs = 29, lr = 0.00001 and batch = 32\n",
        "model = GRU(input_size, hidden_size = 150, num_classes = 2).to(device)   \n",
        "train_rnn_network(model, train, valid, batch_size = 32, num_epochs = 29, learning_rate = 1e-5)"
      ],
      "execution_count": null,
      "outputs": [
        {
          "output_type": "stream",
          "name": "stdout",
          "text": [
            "Epoch 1; Loss 0.646910; Train Acc 0.480020; Val Acc 0.865471\n",
            "Epoch 2; Loss 0.686975; Train Acc 0.480020; Val Acc 0.865471\n",
            "Epoch 3; Loss 0.685377; Train Acc 0.794230; Val Acc 0.932735\n",
            "Epoch 4; Loss 0.687352; Train Acc 0.878793; Val Acc 0.801794\n",
            "Epoch 5; Loss 0.700811; Train Acc 0.634886; Val Acc 0.364126\n",
            "Epoch 6; Loss 0.700889; Train Acc 0.542033; Val Acc 0.177578\n",
            "Epoch 7; Loss 0.709574; Train Acc 0.544188; Val Acc 0.184753\n",
            "Epoch 8; Loss 0.720102; Train Acc 0.561764; Val Acc 0.212556\n",
            "Epoch 9; Loss 0.712538; Train Acc 0.617145; Val Acc 0.318386\n",
            "Epoch 10; Loss 0.700286; Train Acc 0.771514; Val Acc 0.601794\n",
            "Epoch 11; Loss 0.667170; Train Acc 0.933013; Val Acc 0.901345\n",
            "Epoch 12; Loss 0.532416; Train Acc 0.930360; Val Acc 0.960538\n",
            "Epoch 13; Loss 0.419085; Train Acc 0.907975; Val Acc 0.962332\n",
            "Epoch 14; Loss 0.468362; Train Acc 0.909799; Val Acc 0.963229\n",
            "Epoch 15; Loss 0.562002; Train Acc 0.916432; Val Acc 0.967713\n",
            "Epoch 16; Loss 0.330234; Train Acc 0.929033; Val Acc 0.971300\n",
            "Epoch 17; Loss 0.258690; Train Acc 0.917758; Val Acc 0.972197\n",
            "Epoch 18; Loss 0.239233; Train Acc 0.921572; Val Acc 0.974888\n",
            "Epoch 19; Loss 0.259408; Train Acc 0.944288; Val Acc 0.973094\n",
            "Epoch 20; Loss 0.189363; Train Acc 0.942464; Val Acc 0.977578\n",
            "Epoch 21; Loss 0.164820; Train Acc 0.944288; Val Acc 0.975785\n",
            "Epoch 22; Loss 0.155898; Train Acc 0.947936; Val Acc 0.975785\n",
            "Epoch 23; Loss 0.145335; Train Acc 0.955397; Val Acc 0.975785\n",
            "Epoch 24; Loss 0.182244; Train Acc 0.958879; Val Acc 0.975785\n",
            "Epoch 25; Loss 0.113357; Train Acc 0.957884; Val Acc 0.976682\n",
            "Epoch 26; Loss 0.099256; Train Acc 0.958548; Val Acc 0.977578\n",
            "Epoch 27; Loss 0.130053; Train Acc 0.961698; Val Acc 0.975785\n",
            "Epoch 28; Loss 0.116476; Train Acc 0.957387; Val Acc 0.978475\n",
            "Epoch 29; Loss 0.126353; Train Acc 0.961864; Val Acc 0.978475\n"
          ]
        },
        {
          "output_type": "display_data",
          "data": {
            "image/png": "[encoded data removed]",
            "text/plain": [
              "<Figure size 432x288 with 1 Axes>"
            ]
          },
          "metadata": {
            "needs_background": "light"
          }
        },
        {
          "output_type": "display_data",
          "data": {
            "image/png": "[encoded data removed]",
            "text/plain": [
              "<Figure size 432x288 with 1 Axes>"
            ]
          },
          "metadata": {
            "needs_background": "light"
          }
        }
      ]
    },
    {
      "cell_type": "markdown",
      "metadata": {
        "id": "4-wtUAuxOPdq"
      },
      "source": [
        "In the GRU model the validation score is constantly higher than the training set."
      ]
    },
    {
      "cell_type": "code",
      "metadata": {
        "colab": {
          "base_uri": "https://localhost:8080/",
          "height": 1000
        },
        "id": "41OzQgsM-gI7",
        "outputId": "dfd3d04c-4686-4527-89fb-78201f4dd6fa"
      },
      "source": [
        "# Model 6 LSTM with Max pool layer out = self.fc(torch.max(out, dim=1)[0])\n",
        "# h_size = 250, epochs = 29, lr = 0.001 and batch = 32\n",
        "model = LSTM(input_size, hidden_size = 250, num_classes = 2).to(device)   \n",
        "train_rnn_network(model, train, valid, batch_size = 32, num_epochs = 29, learning_rate = 1e-3)"
      ],
      "execution_count": null,
      "outputs": [
        {
          "output_type": "stream",
          "name": "stdout",
          "text": [
            "Epoch 1; Loss 0.051620; Train Acc 0.944619; Val Acc 0.982960\n",
            "Epoch 2; Loss 0.269128; Train Acc 0.971978; Val Acc 0.981166\n",
            "Epoch 3; Loss 0.126402; Train Acc 0.978776; Val Acc 0.988341\n",
            "Epoch 4; Loss 0.027780; Train Acc 0.988891; Val Acc 0.979372\n",
            "Epoch 5; Loss 0.017407; Train Acc 0.995523; Val Acc 0.987444\n",
            "Epoch 6; Loss 0.005641; Train Acc 0.997513; Val Acc 0.983857\n",
            "Epoch 7; Loss 0.068951; Train Acc 0.997347; Val Acc 0.982960\n",
            "Epoch 8; Loss 0.000564; Train Acc 1.000000; Val Acc 0.990135\n",
            "Epoch 9; Loss 0.615012; Train Acc 1.000000; Val Acc 0.990135\n",
            "Epoch 10; Loss 0.322539; Train Acc 1.000000; Val Acc 0.991031\n",
            "Epoch 11; Loss 0.009668; Train Acc 1.000000; Val Acc 0.990135\n",
            "Epoch 12; Loss 0.000613; Train Acc 1.000000; Val Acc 0.990135\n",
            "Epoch 13; Loss 0.000158; Train Acc 1.000000; Val Acc 0.990135\n",
            "Epoch 14; Loss 0.407993; Train Acc 1.000000; Val Acc 0.990135\n",
            "Epoch 15; Loss 0.855113; Train Acc 1.000000; Val Acc 0.990135\n",
            "Epoch 16; Loss 0.023548; Train Acc 1.000000; Val Acc 0.990135\n",
            "Epoch 17; Loss 0.000003; Train Acc 1.000000; Val Acc 0.990135\n",
            "Epoch 18; Loss 0.000006; Train Acc 1.000000; Val Acc 0.990135\n",
            "Epoch 19; Loss 0.033537; Train Acc 1.000000; Val Acc 0.990135\n",
            "Epoch 20; Loss 0.000165; Train Acc 1.000000; Val Acc 0.990135\n",
            "Epoch 21; Loss 0.002494; Train Acc 1.000000; Val Acc 0.990135\n",
            "Epoch 22; Loss 0.000010; Train Acc 1.000000; Val Acc 0.989238\n",
            "Epoch 23; Loss 0.000001; Train Acc 1.000000; Val Acc 0.990135\n",
            "Epoch 24; Loss 0.000125; Train Acc 1.000000; Val Acc 0.990135\n",
            "Epoch 25; Loss 0.000003; Train Acc 1.000000; Val Acc 0.990135\n",
            "Epoch 26; Loss 0.000002; Train Acc 1.000000; Val Acc 0.990135\n",
            "Epoch 27; Loss 0.035667; Train Acc 1.000000; Val Acc 0.989238\n",
            "Epoch 28; Loss 0.000306; Train Acc 1.000000; Val Acc 0.989238\n",
            "Epoch 29; Loss 0.000015; Train Acc 1.000000; Val Acc 0.989238\n"
          ]
        },
        {
          "output_type": "display_data",
          "data": {
            "image/png": "[encoded data removed]",
            "text/plain": [
              "<Figure size 432x288 with 1 Axes>"
            ]
          },
          "metadata": {
            "needs_background": "light"
          }
        },
        {
          "output_type": "display_data",
          "data": {
            "image/png": "[encoded data removed]",
            "text/plain": [
              "<Figure size 432x288 with 1 Axes>"
            ]
          },
          "metadata": {
            "needs_background": "light"
          }
        }
      ]
    },
    {
      "cell_type": "markdown",
      "metadata": {
        "id": "5i7EO8MbOpi4"
      },
      "source": [
        "Here the model overfit due to high learning rate"
      ]
    },
    {
      "cell_type": "code",
      "metadata": {
        "colab": {
          "base_uri": "https://localhost:8080/",
          "height": 740
        },
        "id": "I9nQba0ZmRy-",
        "outputId": "6004ff54-bad0-40f8-bb72-c0a3dbea4a24"
      },
      "source": [
        "# Model 7 LSTM with Max pool layer out = self.fc(torch.max(out, dim=1)[0]) and added dropout 40% to the classifiers first linear layer\n",
        "# h_size = 250, epochs = 10, lr = 0.001 and batch = 32 (lstm 2)\n",
        "model = LSTM_drop(input_size, hidden_size = 250, num_classes = 2).to(device)   \n",
        "train_rnn_network(model, train, valid, batch_size = 32, num_epochs = 10, learning_rate = 1e-3)"
      ],
      "execution_count": null,
      "outputs": [
        {
          "output_type": "stream",
          "name": "stdout",
          "text": [
            "Epoch 1; Loss 0.180206; Train Acc 0.937324; Val Acc 0.970404\n",
            "Epoch 2; Loss 0.078620; Train Acc 0.952247; Val Acc 0.977578\n",
            "Epoch 3; Loss 0.267042; Train Acc 0.972310; Val Acc 0.973991\n",
            "Epoch 4; Loss 0.143365; Train Acc 0.977616; Val Acc 0.975785\n",
            "Epoch 5; Loss 0.033305; Train Acc 0.983585; Val Acc 0.982960\n",
            "Epoch 6; Loss 0.027077; Train Acc 0.989388; Val Acc 0.984753\n",
            "Epoch 7; Loss 0.022343; Train Acc 0.994528; Val Acc 0.985650\n",
            "Epoch 8; Loss 0.023324; Train Acc 0.992870; Val Acc 0.984753\n",
            "Epoch 9; Loss 0.148046; Train Acc 0.999503; Val Acc 0.986547\n",
            "Epoch 10; Loss 0.014425; Train Acc 0.998342; Val Acc 0.984753\n"
          ]
        },
        {
          "output_type": "display_data",
          "data": {
            "image/png": "[encoded data removed]",
            "text/plain": [
              "<Figure size 432x288 with 1 Axes>"
            ]
          },
          "metadata": {
            "needs_background": "light"
          }
        },
        {
          "output_type": "display_data",
          "data": {
            "image/png": "[encoded data removed]",
            "text/plain": [
              "<Figure size 432x288 with 1 Axes>"
            ]
          },
          "metadata": {
            "needs_background": "light"
          }
        }
      ]
    },
    {
      "cell_type": "markdown",
      "metadata": {
        "id": "QTibqdpSOuDg"
      },
      "source": [
        "Here the model did way better after adding a dropout layer. This is chosen as the best model as it has a high training and validation score and as LSTM is also overall a better model than RNN "
      ]
    },
    {
      "cell_type": "code",
      "metadata": {
        "id": "YT5f74Ex-gN4"
      },
      "source": [
        ""
      ],
      "execution_count": null,
      "outputs": []
    },
    {
      "cell_type": "code",
      "metadata": {
        "id": "2i-xexcjEoDD"
      },
      "source": [
        ""
      ],
      "execution_count": null,
      "outputs": []
    },
    {
      "cell_type": "markdown",
      "metadata": {
        "id": "zLgOnhxBZDVN"
      },
      "source": [
        "**BEST MODEL LINK:** https://drive.google.com/file/d/1UBzXIco3yLeagozNkkt1tLckfb5on8rR/view?usp=sharing"
      ]
    },
    {
      "cell_type": "markdown",
      "metadata": {
        "id": "v7DY56rKa91I"
      },
      "source": [
        "### Part (d) [1 pt]\n",
        "\n",
        "Before we deploy a machine learning model, we usually want to have a better understanding\n",
        "of how our model performs beyond its validation accuracy. An important metric to track is\n",
        "*how well our model performs in certain subsets of the data*.\n",
        "\n",
        "In particular, what is the model's error rate amongst data with negative labels?\n",
        "This is called the **false positive rate**.\n",
        "\n",
        "What about the model's error rate amongst data with positive labels?\n",
        "This is called the **false negative rate**.\n",
        "\n",
        "Report your final model's false positive and false negative rate across the\n",
        "validation set."
      ]
    },
    {
      "cell_type": "code",
      "metadata": {
        "id": "7ggbQSdba91J",
        "colab": {
          "base_uri": "https://localhost:8080/"
        },
        "outputId": "c5ff484d-4cda-42df-a393-dea3581feca6"
      },
      "source": [
        "# Create a Dataset of only spam validation examples\n",
        "valid_spam = torchtext.legacy.data.Dataset(\n",
        "    [e for e in valid.examples if e.label == 1],\n",
        "    valid.fields)\n",
        "# Create a Dataset of only non-spam validation examples\n",
        "valid_nospam = torchtext.legacy.data.Dataset(\n",
        "    [e for e in valid.examples if e.label == 0],\n",
        "    valid.fields)\n",
        "best_model = LSTM_drop(input_size, hidden_size = 250, num_classes = 2).to(device)\n",
        "best_model_path = \"/content/model_LSTM_drop\"\n",
        "state = torch.load(best_model_path)\n",
        "best_model.load_state_dict(state)\n",
        "\n",
        "false_positive_rate = 1 - get_accuracy(best_model, valid_nospam, batch_size = 32)\n",
        "false_negative_rate = 1 - get_accuracy(best_model, valid_spam, batch_size = 32)\n",
        "\n",
        "print(\"false positive rate is:\", round(false_positive_rate * 100,2),'%')\n",
        "print(\"false negative rate is:\", round(false_negative_rate * 100,2),'%')"
      ],
      "execution_count": null,
      "outputs": [
        {
          "output_type": "stream",
          "name": "stdout",
          "text": [
            "false positive rate is: 2.69 %\n",
            "false negative rate is: 6.67 %\n"
          ]
        }
      ]
    },
    {
      "cell_type": "markdown",
      "metadata": {
        "id": "N1iRteb3a91O"
      },
      "source": [
        "### Part (e) [1 pt]\n",
        "\n",
        "The impact of a false positive vs a false negative can be drastically different.\n",
        "If our spam detection algorithm was deployed on your phone, what is the impact\n",
        "of a false positive on the phone's user? What is the impact of a false negative?"
      ]
    },
    {
      "cell_type": "markdown",
      "metadata": {
        "id": "IV_F73AFPSQw"
      },
      "source": [
        "**ANSWER:**\n",
        "\n",
        "1) **False Positive**: means a message is a spam but is classified as a non-spam/ham. The impact would be that most of the sms's would be spam and can cause annoyance.\n",
        "\n",
        "2) **False Negative**: means a message is a non-spam/ham but is classified as a spam. The impact of this would be much greater, as this could cause the person from missing important messages."
      ]
    },
    {
      "cell_type": "code",
      "metadata": {
        "id": "hFLUOJTGa91Q"
      },
      "source": [
        ""
      ],
      "execution_count": null,
      "outputs": []
    },
    {
      "cell_type": "markdown",
      "metadata": {
        "id": "Gznefulsa91V"
      },
      "source": [
        "## Part 4. Evaluation [7 pt]\n",
        "\n",
        "### Part (a) [1 pt]\n",
        "\n",
        "Report the final test accuracy of your model."
      ]
    },
    {
      "cell_type": "code",
      "metadata": {
        "id": "D5L5D-A1a91W",
        "colab": {
          "base_uri": "https://localhost:8080/"
        },
        "outputId": "05dd6d62-6dc8-4988-a2f8-c55da1b53078"
      },
      "source": [
        "best_model = LSTM_drop(input_size, hidden_size = 250, num_classes = 2).to(device)\n",
        "best_model_path = \"/content/model_LSTM_drop\"\n",
        "state = torch.load(best_model_path)\n",
        "best_model.load_state_dict(state)\n",
        "\n",
        "test_accuracy = get_accuracy(best_model, test, batch_size = 32)\n",
        "print(\"Test accuracy is:\", test_accuracy)"
      ],
      "execution_count": null,
      "outputs": [
        {
          "output_type": "stream",
          "name": "stdout",
          "text": [
            "Test accuracy is: 0.966786355475763\n"
          ]
        }
      ]
    },
    {
      "cell_type": "markdown",
      "metadata": {
        "id": "6Hjmd8rca91Y"
      },
      "source": [
        "### Part (b) [1 pt]\n",
        "\n",
        "Report the false positive rate and false negative rate of your model across the test set."
      ]
    },
    {
      "cell_type": "code",
      "metadata": {
        "id": "GFiAKztJa91Z",
        "colab": {
          "base_uri": "https://localhost:8080/"
        },
        "outputId": "0cd3a918-b854-471f-d651-3866d675758b"
      },
      "source": [
        "# Create a Dataset of only spam test examples\n",
        "test_spam = torchtext.legacy.data.Dataset(\n",
        "    [e for e in test.examples if e.label == 1],\n",
        "    test.fields)\n",
        "# Create a Dataset of only non-spam test examples\n",
        "test_nospam = torchtext.legacy.data.Dataset(\n",
        "    [e for e in test.examples if e.label == 0],\n",
        "    test.fields)\n",
        "\n",
        "best_model = LSTM_drop(input_size, hidden_size = 250, num_classes = 2).to(device)\n",
        "best_model_path = \"/content/model_LSTM_drop\"\n",
        "state = torch.load(best_model_path)\n",
        "best_model.load_state_dict(state)\n",
        "\n",
        "false_positive_rate = 1 - get_accuracy(model, test_nospam, batch_size = 32)\n",
        "false_negative_rate = 1 - get_accuracy(model, test_spam, batch_size = 32)\n",
        "\n",
        "print(\"false positive rate for test dataset is:\", round(false_positive_rate * 100, 2),'%')\n",
        "print(\"false negative rate for test dataset is:\", round(false_negative_rate * 100, 2),'%')"
      ],
      "execution_count": null,
      "outputs": [
        {
          "output_type": "stream",
          "name": "stdout",
          "text": [
            "false positive rate for test dataset is: 0.93 %\n",
            "false negative rate for test dataset is: 8.72 %\n"
          ]
        }
      ]
    },
    {
      "cell_type": "markdown",
      "metadata": {
        "id": "0jGHtQFpa91b"
      },
      "source": [
        "### Part (c) [3 pt]\n",
        "\n",
        "What is your model's prediction of the **probability** that\n",
        "the SMS message \"machine learning is sooo cool!\" is spam?\n",
        "\n",
        "Hint: To begin, use `text_field.vocab.stoi` to look up the index\n",
        "of each character in the vocabulary."
      ]
    },
    {
      "cell_type": "code",
      "metadata": {
        "id": "h_2nSJq8a91b",
        "colab": {
          "base_uri": "https://localhost:8080/"
        },
        "outputId": "017a33ab-bd4a-4b66-99bb-d39517849b56"
      },
      "source": [
        "msg = \"machine learning is sooo cool!\"\n",
        "\n",
        "best_model = LSTM_drop(input_size, hidden_size = 250, num_classes = 2).to(device)\n",
        "best_model_path = \"/content/model_LSTM_drop\"\n",
        "state = torch.load(best_model_path)\n",
        "best_model.load_state_dict(state)\n",
        "\n",
        "print(text_field.vocab.stoi)\n",
        "msg_list = []\n",
        "for index in range(0, len(msg)):\n",
        "    msg_list.append(text_field.vocab.stoi[msg[index]])\n",
        "print(msg_list)\n",
        "test_message = torch.LongTensor([msg_list])\n",
        "pred = best_model(test_message)\n",
        "a = pred[0][1]\n",
        "prob_of_spam = np.exp(float(pred[0][1])) / (np.exp(float(pred[0][0])) + np.exp(float(pred[0][1])))\n",
        "print(\"probability of the message to be spam is:\", prob_of_spam)"
      ],
      "execution_count": null,
      "outputs": [
        {
          "output_type": "stream",
          "name": "stdout",
          "text": [
            "defaultdict(<bound method Vocab._default_unk_index of <torchtext.legacy.vocab.Vocab object at 0x7fb7c3b09c50>>, {'<unk>': 0, '<pad>': 1, ' ': 2, 'e': 3, 'o': 4, 't': 5, 'a': 6, 'n': 7, 'r': 8, 'i': 9, 's': 10, 'l': 11, 'u': 12, '0': 13, 'h': 14, 'd': 15, '.': 16, 'c': 17, 'm': 18, 'y': 19, 'w': 20, 'p': 21, 'g': 22, '1': 23, 'f': 24, '2': 25, 'b': 26, '8': 27, 'T': 28, 'k': 29, 'E': 30, 'v': 31, '5': 32, 'S': 33, 'C': 34, 'I': 35, 'O': 36, '4': 37, 'N': 38, '7': 39, 'x': 40, '3': 41, '6': 42, 'A': 43, 'R': 44, '!': 45, '9': 46, ',': 47, 'P': 48, 'W': 49, 'U': 50, 'M': 51, 'L': 52, 'H': 53, 'D': 54, 'B': 55, 'Y': 56, 'F': 57, 'G': 58, \"'\": 59, '/': 60, '?': 61, '£': 62, '-': 63, '&': 64, ':': 65, 'X': 66, 'z': 67, 'V': 68, 'K': 69, 'j': 70, '*': 71, ')': 72, '+': 73, 'J': 74, ';': 75, '(': 76, 'q': 77, '\"': 78, 'Q': 79, '#': 80, '>': 81, '@': 82, '=': 83, 'ü': 84, 'Z': 85, '$': 86, 'Ü': 87, '<': 88, '‘': 89, '\\x92': 90, '|': 91, '%': 92, '_': 93, '\\x93': 94, '“': 95, '…': 96, '–': 97, '[': 98, ']': 99, '\\\\': 100, '~': 101, '\\x91': 102, '\\x94': 103, '\\x96': 104, '^': 105, 'è': 106, '—': 107, '┾': 108, '〨': 109, '鈥': 110, '»': 0, '’': 0, 'ì': 0, '\\n': 0, '\\t': 0, '¡': 0, 'é': 0, 'É': 0, 'ú': 0, 'Congratulations! You have won 100$ Walmart Gift Card': 0, 'UP TO 70% OFF on Clothing for Men , Women & Kids MANY MORE': 0, 'Urgent! Your grandson was arrested last night at Mexico. Need Bail money immediately Western Union Wire 9500$': 0, 'Get 50% off with our limited-time, year-end offer on the premium ProtonVPN Plus plan.': 0, 'Congratulations! You recieved 3 bitcoins. Register to claim your reward': 0})\n",
            "[18, 6, 17, 14, 9, 7, 3, 2, 11, 3, 6, 8, 7, 9, 7, 22, 2, 9, 10, 2, 10, 4, 4, 4, 2, 17, 4, 4, 11, 45]\n",
            "probability of the message to be spam is: 0.04171565586162223\n"
          ]
        }
      ]
    },
    {
      "cell_type": "markdown",
      "metadata": {
        "id": "QD1zgYJpa91f"
      },
      "source": [
        "### Part (d) [2 pt]\n",
        "\n",
        "Do you think detecting spam is an easy or difficult task?\n",
        "\n",
        "Since machine learning models are expensive to train and deploy, it is very\n",
        "important to compare our models against baseline models: a simple\n",
        "model that is easy to build and inexpensive to run that we can compare our\n",
        "recurrent neural network model against.\n",
        "\n",
        "Explain how you might build a simple baseline model. This baseline model\n",
        "can be a simple neural network (with very few weights), a hand-written algorithm,\n",
        "or any other strategy that is easy to build and test.\n",
        "\n",
        "**Do not actually build a baseline model. Instead, provide instructions on\n",
        "how to build it.**"
      ]
    },
    {
      "cell_type": "markdown",
      "metadata": {
        "id": "u1GdFM6YQty9"
      },
      "source": [
        "**ANSWER:**\n",
        "\n",
        " It is not an easy task. We can make a Bayesian classifier.\n",
        " firstly, we should get the count of occurances of all the words in spam \n",
        " and ham message set respectively. Then, calculate the probability of occurance of each word in both sets. Let 's' be occurance of a word in spam and 'h' be occurance of word in ham. Using Laplace smoothing\n",
        " \n",
        " s = (# occurance in spam bag + 1) / (# of total words in spam bag) + (# of total vocabulary)\n",
        " h = (# occurance in ham bag + 1) / (# of total words in ham bag) + (# of total vocabulary)\n",
        " \n",
        " Then we can compare P1 and P2\n",
        " where: \n",
        " \n",
        " P1 = PI(s**(# of occurance of a spam word in test message)) * (prior prob of a spam occurs) (Note: PI is the accumulated multiplication over all words in the vocabulary)\n",
        " \n",
        " P2 = PI(h**(# of occurance of a spam word in test message)) * (prior prob of a ham occurs)\n",
        " \n",
        " If P1>P2, the message is classified as spam, else, it is ham."
      ]
    },
    {
      "cell_type": "code",
      "metadata": {
        "id": "Yru572HQQs62"
      },
      "source": [
        ""
      ],
      "execution_count": null,
      "outputs": []
    },
    {
      "cell_type": "code",
      "metadata": {
        "id": "7dwiiZYdvz34"
      },
      "source": [
        ""
      ],
      "execution_count": null,
      "outputs": []
    },
    {
      "cell_type": "markdown",
      "metadata": {
        "id": "zIR3Q5l0v1HP"
      },
      "source": [
        "# PART B - Transfer Learning [20 pt]\n",
        "\n",
        "In this part we will compare our earlier model with one that takes advantage of a generative RNN model to improve the prediction. There are several ways to implement transfer learning with RNNs, here we will use an approach known as ULMFiT developed by fastai. Rather than rebuilding the model from scratch, we will take advantage of the fastai library.\n",
        "\n",
        "Provided below is some helper code to get you started.\n",
        "\n",
        "#### Helper Code"
      ]
    },
    {
      "cell_type": "code",
      "metadata": {
        "id": "5R-_BQyiAMoo",
        "colab": {
          "base_uri": "https://localhost:8080/"
        },
        "outputId": "5d52dccb-13bc-45c2-eb5a-8fac90352ee4"
      },
      "source": [
        "# install relevant libraries\n",
        "!pip install fastai"
      ],
      "execution_count": null,
      "outputs": [
        {
          "output_type": "stream",
          "name": "stdout",
          "text": [
            "Requirement already satisfied: fastai in /usr/local/lib/python3.7/dist-packages (1.0.61)\n",
            "Requirement already satisfied: numpy>=1.15 in /usr/local/lib/python3.7/dist-packages (from fastai) (1.19.5)\n",
            "Requirement already satisfied: packaging in /usr/local/lib/python3.7/dist-packages (from fastai) (21.3)\n",
            "Requirement already satisfied: Pillow in /usr/local/lib/python3.7/dist-packages (from fastai) (7.1.2)\n",
            "Requirement already satisfied: torch>=1.0.0 in /usr/local/lib/python3.7/dist-packages (from fastai) (1.10.0+cu111)\n",
            "Requirement already satisfied: torchvision in /usr/local/lib/python3.7/dist-packages (from fastai) (0.11.1+cu111)\n",
            "Requirement already satisfied: pyyaml in /usr/local/lib/python3.7/dist-packages (from fastai) (3.13)\n",
            "Requirement already satisfied: scipy in /usr/local/lib/python3.7/dist-packages (from fastai) (1.4.1)\n",
            "Requirement already satisfied: fastprogress>=0.2.1 in /usr/local/lib/python3.7/dist-packages (from fastai) (1.0.0)\n",
            "Requirement already satisfied: matplotlib in /usr/local/lib/python3.7/dist-packages (from fastai) (3.2.2)\n",
            "Requirement already satisfied: spacy>=2.0.18 in /usr/local/lib/python3.7/dist-packages (from fastai) (2.2.4)\n",
            "Requirement already satisfied: numexpr in /usr/local/lib/python3.7/dist-packages (from fastai) (2.7.3)\n",
            "Requirement already satisfied: bottleneck in /usr/local/lib/python3.7/dist-packages (from fastai) (1.3.2)\n",
            "Requirement already satisfied: pandas in /usr/local/lib/python3.7/dist-packages (from fastai) (1.1.5)\n",
            "Requirement already satisfied: nvidia-ml-py3 in /usr/local/lib/python3.7/dist-packages (from fastai) (7.352.0)\n",
            "Requirement already satisfied: requests in /usr/local/lib/python3.7/dist-packages (from fastai) (2.23.0)\n",
            "Requirement already satisfied: beautifulsoup4 in /usr/local/lib/python3.7/dist-packages (from fastai) (4.6.3)\n",
            "Requirement already satisfied: preshed<3.1.0,>=3.0.2 in /usr/local/lib/python3.7/dist-packages (from spacy>=2.0.18->fastai) (3.0.6)\n",
            "Requirement already satisfied: blis<0.5.0,>=0.4.0 in /usr/local/lib/python3.7/dist-packages (from spacy>=2.0.18->fastai) (0.4.1)\n",
            "Requirement already satisfied: plac<1.2.0,>=0.9.6 in /usr/local/lib/python3.7/dist-packages (from spacy>=2.0.18->fastai) (1.1.3)\n",
            "Requirement already satisfied: setuptools in /usr/local/lib/python3.7/dist-packages (from spacy>=2.0.18->fastai) (57.4.0)\n",
            "Requirement already satisfied: murmurhash<1.1.0,>=0.28.0 in /usr/local/lib/python3.7/dist-packages (from spacy>=2.0.18->fastai) (1.0.6)\n",
            "Requirement already satisfied: srsly<1.1.0,>=1.0.2 in /usr/local/lib/python3.7/dist-packages (from spacy>=2.0.18->fastai) (1.0.5)\n",
            "Requirement already satisfied: wasabi<1.1.0,>=0.4.0 in /usr/local/lib/python3.7/dist-packages (from spacy>=2.0.18->fastai) (0.8.2)\n",
            "Requirement already satisfied: cymem<2.1.0,>=2.0.2 in /usr/local/lib/python3.7/dist-packages (from spacy>=2.0.18->fastai) (2.0.6)\n",
            "Requirement already satisfied: tqdm<5.0.0,>=4.38.0 in /usr/local/lib/python3.7/dist-packages (from spacy>=2.0.18->fastai) (4.62.3)\n",
            "Requirement already satisfied: catalogue<1.1.0,>=0.0.7 in /usr/local/lib/python3.7/dist-packages (from spacy>=2.0.18->fastai) (1.0.0)\n",
            "Requirement already satisfied: thinc==7.4.0 in /usr/local/lib/python3.7/dist-packages (from spacy>=2.0.18->fastai) (7.4.0)\n",
            "Requirement already satisfied: importlib-metadata>=0.20 in /usr/local/lib/python3.7/dist-packages (from catalogue<1.1.0,>=0.0.7->spacy>=2.0.18->fastai) (4.8.2)\n",
            "Requirement already satisfied: typing-extensions>=3.6.4 in /usr/local/lib/python3.7/dist-packages (from importlib-metadata>=0.20->catalogue<1.1.0,>=0.0.7->spacy>=2.0.18->fastai) (3.10.0.2)\n",
            "Requirement already satisfied: zipp>=0.5 in /usr/local/lib/python3.7/dist-packages (from importlib-metadata>=0.20->catalogue<1.1.0,>=0.0.7->spacy>=2.0.18->fastai) (3.6.0)\n",
            "Requirement already satisfied: urllib3!=1.25.0,!=1.25.1,<1.26,>=1.21.1 in /usr/local/lib/python3.7/dist-packages (from requests->fastai) (1.24.3)\n",
            "Requirement already satisfied: chardet<4,>=3.0.2 in /usr/local/lib/python3.7/dist-packages (from requests->fastai) (3.0.4)\n",
            "Requirement already satisfied: idna<3,>=2.5 in /usr/local/lib/python3.7/dist-packages (from requests->fastai) (2.10)\n",
            "Requirement already satisfied: certifi>=2017.4.17 in /usr/local/lib/python3.7/dist-packages (from requests->fastai) (2021.10.8)\n",
            "Requirement already satisfied: kiwisolver>=1.0.1 in /usr/local/lib/python3.7/dist-packages (from matplotlib->fastai) (1.3.2)\n",
            "Requirement already satisfied: pyparsing!=2.0.4,!=2.1.2,!=2.1.6,>=2.0.1 in /usr/local/lib/python3.7/dist-packages (from matplotlib->fastai) (3.0.6)\n",
            "Requirement already satisfied: python-dateutil>=2.1 in /usr/local/lib/python3.7/dist-packages (from matplotlib->fastai) (2.8.2)\n",
            "Requirement already satisfied: cycler>=0.10 in /usr/local/lib/python3.7/dist-packages (from matplotlib->fastai) (0.11.0)\n",
            "Requirement already satisfied: six>=1.5 in /usr/local/lib/python3.7/dist-packages (from python-dateutil>=2.1->matplotlib->fastai) (1.15.0)\n",
            "Requirement already satisfied: pytz>=2017.2 in /usr/local/lib/python3.7/dist-packages (from pandas->fastai) (2018.9)\n"
          ]
        }
      ]
    },
    {
      "cell_type": "code",
      "metadata": {
        "id": "316Xs5WBv0kg"
      },
      "source": [
        "# load relevant libraries\n",
        "from fastai import * \n",
        "import pandas as pd\n",
        "import numpy as np\n",
        "from functools import partial\n",
        "import io\n",
        "import os\n",
        "from fastai.text import *"
      ],
      "execution_count": null,
      "outputs": []
    },
    {
      "cell_type": "code",
      "metadata": {
        "id": "MfoKX8tKAU4Q"
      },
      "source": [
        "# # download SPAM data\n",
        "# !wget https://archive.ics.uci.edu/ml/machine-learning-databases/00228/smsspamcollection.zip\n",
        "# !unzip smsspamcollection.zip"
      ],
      "execution_count": null,
      "outputs": []
    },
    {
      "cell_type": "markdown",
      "metadata": {
        "id": "J4vSv4Z9QxTJ"
      },
      "source": [
        "This time we will load the data using pandas."
      ]
    },
    {
      "cell_type": "code",
      "metadata": {
        "id": "RKPhLwlhAbv-",
        "colab": {
          "base_uri": "https://localhost:8080/",
          "height": 202
        },
        "outputId": "c17dde6e-7e8b-481b-bd7c-ba3253777b6f"
      },
      "source": [
        "# set up data and verify\n",
        "df1 = pd.read_csv('SMSSpamCollection', sep='\\t',  header=None, names=['target', 'text'])\n",
        "df1.head()"
      ],
      "execution_count": null,
      "outputs": [
        {
          "output_type": "execute_result",
          "data": {
            "text/html": [
              "<div>\n",
              "<style scoped>\n",
              "    .dataframe tbody tr th:only-of-type {\n",
              "        vertical-align: middle;\n",
              "    }\n",
              "\n",
              "    .dataframe tbody tr th {\n",
              "        vertical-align: top;\n",
              "    }\n",
              "\n",
              "    .dataframe thead th {\n",
              "        text-align: right;\n",
              "    }\n",
              "</style>\n",
              "<table border=\"1\" class=\"dataframe\">\n",
              "  <thead>\n",
              "    <tr style=\"text-align: right;\">\n",
              "      <th></th>\n",
              "      <th>target</th>\n",
              "      <th>text</th>\n",
              "    </tr>\n",
              "  </thead>\n",
              "  <tbody>\n",
              "    <tr>\n",
              "      <th>0</th>\n",
              "      <td>ham</td>\n",
              "      <td>Go until jurong point, crazy.. Available only ...</td>\n",
              "    </tr>\n",
              "    <tr>\n",
              "      <th>1</th>\n",
              "      <td>ham</td>\n",
              "      <td>Ok lar... Joking wif u oni...</td>\n",
              "    </tr>\n",
              "    <tr>\n",
              "      <th>2</th>\n",
              "      <td>spam</td>\n",
              "      <td>Free entry in 2 a wkly comp to win FA Cup fina...</td>\n",
              "    </tr>\n",
              "    <tr>\n",
              "      <th>3</th>\n",
              "      <td>ham</td>\n",
              "      <td>U dun say so early hor... U c already then say...</td>\n",
              "    </tr>\n",
              "    <tr>\n",
              "      <th>4</th>\n",
              "      <td>ham</td>\n",
              "      <td>Nah I don't think he goes to usf, he lives aro...</td>\n",
              "    </tr>\n",
              "  </tbody>\n",
              "</table>\n",
              "</div>"
            ],
            "text/plain": [
              "  target                                               text\n",
              "0    ham  Go until jurong point, crazy.. Available only ...\n",
              "1    ham                      Ok lar... Joking wif u oni...\n",
              "2   spam  Free entry in 2 a wkly comp to win FA Cup fina...\n",
              "3    ham  U dun say so early hor... U c already then say...\n",
              "4    ham  Nah I don't think he goes to usf, he lives aro..."
            ]
          },
          "metadata": {},
          "execution_count": 112
        }
      ]
    },
    {
      "cell_type": "code",
      "metadata": {
        "id": "rorC2T1yAfWY",
        "colab": {
          "base_uri": "https://localhost:8080/"
        },
        "outputId": "42ee6da1-e4b6-4296-f766-e005c7a652f7"
      },
      "source": [
        "# check distribution\n",
        "df1['target'].value_counts()"
      ],
      "execution_count": null,
      "outputs": [
        {
          "output_type": "execute_result",
          "data": {
            "text/plain": [
              "ham     4825\n",
              "spam     747\n",
              "Name: target, dtype: int64"
            ]
          },
          "metadata": {},
          "execution_count": 113
        }
      ]
    },
    {
      "cell_type": "markdown",
      "metadata": {
        "id": "snNazefHQ3yo"
      },
      "source": [
        "Split the data into training and validation datasets."
      ]
    },
    {
      "cell_type": "code",
      "metadata": {
        "colab": {
          "base_uri": "https://localhost:8080/"
        },
        "id": "uyCkDbTRAyxk",
        "outputId": "1649494d-eb3b-4784-eaf7-68b0720d2995"
      },
      "source": [
        "df_trn.shape, df_val.shape, df_test.shape"
      ],
      "execution_count": null,
      "outputs": [
        {
          "output_type": "execute_result",
          "data": {
            "text/plain": [
              "((3343, 2), (1115, 2), (1114, 2))"
            ]
          },
          "metadata": {},
          "execution_count": 114
        }
      ]
    },
    {
      "cell_type": "markdown",
      "metadata": {
        "id": "kuGx5mebBfEm"
      },
      "source": [
        "### Create the language model\n",
        "Esentially, the language model contains the structure of the language (English in this case), allowing us to quickly use in a classification model, skipping the part of learning the semantics of the language from scratch.\n",
        "\n",
        "Creating a language model from scratch can be intensive due to the sheer size of data. Instead we will download the pre-trained model, which is a neural network (NN) with an AWD_LSTM architecture. By setting pretrained = True we say to fastai to download the weights from the trained model (a corpus of 103 MM of wikipedia articles)."
      ]
    },
    {
      "cell_type": "code",
      "metadata": {
        "id": "S6yWJklsBdPp",
        "colab": {
          "base_uri": "https://localhost:8080/",
          "height": 87
        },
        "outputId": "2f20e9d8-b462-45e6-c831-15fdd48c04f5"
      },
      "source": [
        "# create pretrained language model data\n",
        "data_lm = TextLMDataBunch.from_df(train_df = df_trn, valid_df = df_val, path = \"\")\n",
        "lang_mod = language_model_learner(data_lm,  arch = AWD_LSTM, pretrained = True, drop_mult=1.)"
      ],
      "execution_count": null,
      "outputs": [
        {
          "output_type": "display_data",
          "data": {
            "text/html": [
              ""
            ],
            "text/plain": [
              "<IPython.core.display.HTML object>"
            ]
          },
          "metadata": {}
        },
        {
          "output_type": "stream",
          "name": "stderr",
          "text": [
            "/usr/local/lib/python3.7/dist-packages/fastai/core.py:302: VisibleDeprecationWarning: Creating an ndarray from ragged nested sequences (which is a list-or-tuple of lists-or-tuples-or ndarrays with different lengths or shapes) is deprecated. If you meant to do this, you must specify 'dtype=object' when creating the ndarray\n",
            "  return np.array(a, dtype=dtype, **kwargs)\n"
          ]
        },
        {
          "output_type": "display_data",
          "data": {
            "text/html": [
              ""
            ],
            "text/plain": [
              "<IPython.core.display.HTML object>"
            ]
          },
          "metadata": {}
        },
        {
          "output_type": "stream",
          "name": "stdout",
          "text": [
            "Downloading https://s3.amazonaws.com/fast-ai-modelzoo/wt103-fwd.tgz\n"
          ]
        },
        {
          "output_type": "display_data",
          "data": {
            "text/html": [
              ""
            ],
            "text/plain": [
              "<IPython.core.display.HTML object>"
            ]
          },
          "metadata": {}
        }
      ]
    },
    {
      "cell_type": "markdown",
      "metadata": {
        "id": "lT_aVqCRB8DJ"
      },
      "source": [
        "### Testing the language model\n"
      ]
    },
    {
      "cell_type": "code",
      "metadata": {
        "id": "PlZgAMGbCZXY",
        "colab": {
          "base_uri": "https://localhost:8080/"
        },
        "outputId": "3cd3dc48-8bb7-40bb-f01e-23afc8782a18"
      },
      "source": [
        "for i in range(5):\n",
        "  print(lang_mod.predict(\"The problem usually starts when\", n_words=10))"
      ],
      "execution_count": null,
      "outputs": [
        {
          "output_type": "stream",
          "name": "stdout",
          "text": [
            "The problem usually starts when the first two \" fights \" are played , but\n",
            "The problem usually starts when , during the open reality period of an hour or\n",
            "The problem usually starts when a member of the Daily Mail loses their\n",
            "The problem usually starts when Cr9 Love ( from his New\n",
            "The problem usually starts when the player is either an unknown or a working man\n"
          ]
        }
      ]
    },
    {
      "cell_type": "markdown",
      "metadata": {
        "id": "8-9pK9cTCmFP"
      },
      "source": [
        "Each time we excecute the `predict`, we get a different random sentence, completed with the number of choosen words (`n_words`).\n",
        "\n",
        "Try your own sentences!"
      ]
    },
    {
      "cell_type": "code",
      "metadata": {
        "colab": {
          "base_uri": "https://localhost:8080/"
        },
        "id": "fIr5r711H1ff",
        "outputId": "21eb1a9a-264d-43e7-a4d2-8989b81fb92f"
      },
      "source": [
        "for i in range(5):\n",
        "  print(lang_mod.predict(\"Anchit is\", n_words=2))"
      ],
      "execution_count": null,
      "outputs": [
        {
          "output_type": "stream",
          "name": "stdout",
          "text": [
            "Anchit is Good\n",
            "Anchit is ok ,\n",
            "Anchit is Txt\n",
            "Anchit is text you\n",
            "Anchit is a nice\n"
          ]
        }
      ]
    },
    {
      "cell_type": "markdown",
      "metadata": {
        "id": "Q8-HUwNYCqSO"
      },
      "source": [
        "### Fine-tuning the language model\n",
        "The language model that we have \"loaded\" is great for generating wikipedia-like sentances, but here we're more interested in generating data like our email dataset. \n",
        "\n",
        "Make sure to enable GPU for this step or it make takes several hours to train."
      ]
    },
    {
      "cell_type": "code",
      "metadata": {
        "id": "2Z6lG13vRnbo",
        "colab": {
          "base_uri": "https://localhost:8080/",
          "height": 543
        },
        "outputId": "26b78af5-8b0b-470f-fc00-928fd789da13"
      },
      "source": [
        "# fine-tune language model data\n",
        "lang_mod.fit_one_cycle(4, max_lr= 5e-02)\n",
        "lang_mod.freeze_to(-1)\n",
        "lang_mod.fit_one_cycle(3, slice(1e-2/(2.6**4), 1e-2))\n",
        "lang_mod.freeze_to(-2)\n",
        "lang_mod.fit_one_cycle(3, slice(3e-3/(2.6**4), 1e-3))\n",
        "lang_mod.unfreeze()\n",
        "lang_mod.fit_one_cycle(3, slice(3e-3/(2.6**4), 1e-3))\n",
        "\n",
        "# save language model\n",
        "lang_mod.save_encoder('my_awsome_encoder')"
      ],
      "execution_count": null,
      "outputs": [
        {
          "output_type": "display_data",
          "data": {
            "text/html": [
              "<table border=\"1\" class=\"dataframe\">\n",
              "  <thead>\n",
              "    <tr style=\"text-align: left;\">\n",
              "      <th>epoch</th>\n",
              "      <th>train_loss</th>\n",
              "      <th>valid_loss</th>\n",
              "      <th>accuracy</th>\n",
              "      <th>time</th>\n",
              "    </tr>\n",
              "  </thead>\n",
              "  <tbody>\n",
              "    <tr>\n",
              "      <td>0</td>\n",
              "      <td>5.626716</td>\n",
              "      <td>4.198765</td>\n",
              "      <td>0.314286</td>\n",
              "      <td>00:01</td>\n",
              "    </tr>\n",
              "    <tr>\n",
              "      <td>1</td>\n",
              "      <td>4.919044</td>\n",
              "      <td>4.186047</td>\n",
              "      <td>0.342857</td>\n",
              "      <td>00:01</td>\n",
              "    </tr>\n",
              "    <tr>\n",
              "      <td>2</td>\n",
              "      <td>4.485267</td>\n",
              "      <td>4.039305</td>\n",
              "      <td>0.371429</td>\n",
              "      <td>00:01</td>\n",
              "    </tr>\n",
              "    <tr>\n",
              "      <td>3</td>\n",
              "      <td>4.202486</td>\n",
              "      <td>4.019411</td>\n",
              "      <td>0.371429</td>\n",
              "      <td>00:01</td>\n",
              "    </tr>\n",
              "  </tbody>\n",
              "</table>"
            ],
            "text/plain": [
              "<IPython.core.display.HTML object>"
            ]
          },
          "metadata": {}
        },
        {
          "output_type": "display_data",
          "data": {
            "text/html": [
              "<table border=\"1\" class=\"dataframe\">\n",
              "  <thead>\n",
              "    <tr style=\"text-align: left;\">\n",
              "      <th>epoch</th>\n",
              "      <th>train_loss</th>\n",
              "      <th>valid_loss</th>\n",
              "      <th>accuracy</th>\n",
              "      <th>time</th>\n",
              "    </tr>\n",
              "  </thead>\n",
              "  <tbody>\n",
              "    <tr>\n",
              "      <td>0</td>\n",
              "      <td>3.688574</td>\n",
              "      <td>3.950756</td>\n",
              "      <td>0.385714</td>\n",
              "      <td>00:01</td>\n",
              "    </tr>\n",
              "    <tr>\n",
              "      <td>1</td>\n",
              "      <td>3.634841</td>\n",
              "      <td>3.952629</td>\n",
              "      <td>0.357143</td>\n",
              "      <td>00:01</td>\n",
              "    </tr>\n",
              "    <tr>\n",
              "      <td>2</td>\n",
              "      <td>3.589334</td>\n",
              "      <td>3.931473</td>\n",
              "      <td>0.400000</td>\n",
              "      <td>00:01</td>\n",
              "    </tr>\n",
              "  </tbody>\n",
              "</table>"
            ],
            "text/plain": [
              "<IPython.core.display.HTML object>"
            ]
          },
          "metadata": {}
        },
        {
          "output_type": "display_data",
          "data": {
            "text/html": [
              "<table border=\"1\" class=\"dataframe\">\n",
              "  <thead>\n",
              "    <tr style=\"text-align: left;\">\n",
              "      <th>epoch</th>\n",
              "      <th>train_loss</th>\n",
              "      <th>valid_loss</th>\n",
              "      <th>accuracy</th>\n",
              "      <th>time</th>\n",
              "    </tr>\n",
              "  </thead>\n",
              "  <tbody>\n",
              "    <tr>\n",
              "      <td>0</td>\n",
              "      <td>3.524023</td>\n",
              "      <td>3.912457</td>\n",
              "      <td>0.400000</td>\n",
              "      <td>00:01</td>\n",
              "    </tr>\n",
              "    <tr>\n",
              "      <td>1</td>\n",
              "      <td>3.505463</td>\n",
              "      <td>3.908858</td>\n",
              "      <td>0.385714</td>\n",
              "      <td>00:01</td>\n",
              "    </tr>\n",
              "    <tr>\n",
              "      <td>2</td>\n",
              "      <td>3.485138</td>\n",
              "      <td>3.896551</td>\n",
              "      <td>0.385714</td>\n",
              "      <td>00:01</td>\n",
              "    </tr>\n",
              "  </tbody>\n",
              "</table>"
            ],
            "text/plain": [
              "<IPython.core.display.HTML object>"
            ]
          },
          "metadata": {}
        },
        {
          "output_type": "display_data",
          "data": {
            "text/html": [
              "<table border=\"1\" class=\"dataframe\">\n",
              "  <thead>\n",
              "    <tr style=\"text-align: left;\">\n",
              "      <th>epoch</th>\n",
              "      <th>train_loss</th>\n",
              "      <th>valid_loss</th>\n",
              "      <th>accuracy</th>\n",
              "      <th>time</th>\n",
              "    </tr>\n",
              "  </thead>\n",
              "  <tbody>\n",
              "    <tr>\n",
              "      <td>0</td>\n",
              "      <td>3.444623</td>\n",
              "      <td>3.878313</td>\n",
              "      <td>0.371429</td>\n",
              "      <td>00:01</td>\n",
              "    </tr>\n",
              "    <tr>\n",
              "      <td>1</td>\n",
              "      <td>3.415102</td>\n",
              "      <td>3.864932</td>\n",
              "      <td>0.400000</td>\n",
              "      <td>00:01</td>\n",
              "    </tr>\n",
              "    <tr>\n",
              "      <td>2</td>\n",
              "      <td>3.386207</td>\n",
              "      <td>3.861698</td>\n",
              "      <td>0.371429</td>\n",
              "      <td>00:01</td>\n",
              "    </tr>\n",
              "  </tbody>\n",
              "</table>"
            ],
            "text/plain": [
              "<IPython.core.display.HTML object>"
            ]
          },
          "metadata": {}
        }
      ]
    },
    {
      "cell_type": "markdown",
      "metadata": {
        "id": "KT-Y6pB1SrGg"
      },
      "source": [
        "### Classification model\n",
        "Now we can train a classification model that will identify spam and non-spam messages. Since we used a fastai language model, it will be easier to just continue working with the fastai library."
      ]
    },
    {
      "cell_type": "code",
      "metadata": {
        "id": "MIvfaeOfTDZV",
        "colab": {
          "base_uri": "https://localhost:8080/",
          "height": 120
        },
        "outputId": "98a76782-a8cb-4490-bd3a-2cf3001f950d"
      },
      "source": [
        "# Classifier model data\n",
        "data_clas = TextClasDataBunch.from_df(path = \"\", train_df = df_trn,  valid_df = df_val, vocab=data_lm.train_ds.vocab, bs=32)"
      ],
      "execution_count": null,
      "outputs": [
        {
          "output_type": "display_data",
          "data": {
            "text/html": [
              ""
            ],
            "text/plain": [
              "<IPython.core.display.HTML object>"
            ]
          },
          "metadata": {}
        },
        {
          "output_type": "stream",
          "name": "stderr",
          "text": [
            "/usr/local/lib/python3.7/dist-packages/fastai/core.py:302: VisibleDeprecationWarning: Creating an ndarray from ragged nested sequences (which is a list-or-tuple of lists-or-tuples-or ndarrays with different lengths or shapes) is deprecated. If you meant to do this, you must specify 'dtype=object' when creating the ndarray\n",
            "  return np.array(a, dtype=dtype, **kwargs)\n"
          ]
        },
        {
          "output_type": "display_data",
          "data": {
            "text/html": [
              ""
            ],
            "text/plain": [
              "<IPython.core.display.HTML object>"
            ]
          },
          "metadata": {}
        },
        {
          "output_type": "stream",
          "name": "stderr",
          "text": [
            "/usr/local/lib/python3.7/dist-packages/numpy/core/_asarray.py:83: VisibleDeprecationWarning: Creating an ndarray from ragged nested sequences (which is a list-or-tuple of lists-or-tuples-or ndarrays with different lengths or shapes) is deprecated. If you meant to do this, you must specify 'dtype=object' when creating the ndarray\n",
            "  return array(a, dtype, copy=False, order=order)\n",
            "<string>:6: VisibleDeprecationWarning: Creating an ndarray from ragged nested sequences (which is a list-or-tuple of lists-or-tuples-or ndarrays with different lengths or shapes) is deprecated. If you meant to do this, you must specify 'dtype=object' when creating the ndarray\n"
          ]
        }
      ]
    },
    {
      "cell_type": "code",
      "metadata": {
        "id": "Kc2fiXTCTjHh",
        "colab": {
          "base_uri": "https://localhost:8080/",
          "height": 356
        },
        "outputId": "cf4d855d-ff9b-492c-94b7-235f19530101"
      },
      "source": [
        "data_clas.show_batch()"
      ],
      "execution_count": null,
      "outputs": [
        {
          "output_type": "stream",
          "name": "stderr",
          "text": [
            "/usr/local/lib/python3.7/dist-packages/numpy/core/_asarray.py:83: VisibleDeprecationWarning: Creating an ndarray from ragged nested sequences (which is a list-or-tuple of lists-or-tuples-or ndarrays with different lengths or shapes) is deprecated. If you meant to do this, you must specify 'dtype=object' when creating the ndarray\n",
            "  return array(a, dtype, copy=False, order=order)\n",
            "<string>:6: VisibleDeprecationWarning: Creating an ndarray from ragged nested sequences (which is a list-or-tuple of lists-or-tuples-or ndarrays with different lengths or shapes) is deprecated. If you meant to do this, you must specify 'dtype=object' when creating the ndarray\n"
          ]
        },
        {
          "output_type": "display_data",
          "data": {
            "text/html": [
              "<table border=\"1\" class=\"dataframe\">\n",
              "  <thead>\n",
              "    <tr style=\"text-align: right;\">\n",
              "      <th>text</th>\n",
              "      <th>target</th>\n",
              "    </tr>\n",
              "  </thead>\n",
              "  <tbody>\n",
              "    <tr>\n",
              "      <td>xxbos xxup hey xxup girl . xxup how r u ? xxup hope u r xxup well xxup me xxup an xxup del r xxup bak ! xxup again xxup long xxup time xxup no c ! xxup give xxup me a xxup call xxup sum xxup time xxup from</td>\n",
              "      <td>ham</td>\n",
              "    </tr>\n",
              "    <tr>\n",
              "      <td>xxbos xxup so xxup is xxup th xxup xxunk xxup mate xxup which xxup is xxup where i xxup am ! ? ! xxup how r u xxup man ? xxup all xxup is xxup good xxup in xxup wales xxup ill b xxup back xxup xxunk . c u</td>\n",
              "      <td>ham</td>\n",
              "    </tr>\n",
              "    <tr>\n",
              "      <td>xxbos xxup oh xxup rite . xxup well xxup im xxup with xxup my xxup best xxup mate xxup pete , xxup who i xxup went xxup out xxup with 4 a xxup xxunk xxup now xxup were xxup 2geva xxup again . xxup its xxup xxunk</td>\n",
              "      <td>ham</td>\n",
              "    </tr>\n",
              "    <tr>\n",
              "      <td>xxbos xxmaj for xxmaj the xxmaj first xxmaj time xxmaj in xxmaj the xxmaj xxunk ' xxmaj need ' ' xxmaj xxunk ' xxmaj and ' xxmaj luxury ' xxmaj are xxmaj xxunk xxmaj at xxmaj same xxmaj price xxmaj in xxmaj india .. ! !</td>\n",
              "      <td>ham</td>\n",
              "    </tr>\n",
              "    <tr>\n",
              "      <td>xxbos xxup xxunk xxup today xxup xxunk xxup it xxup was xxup nice 2 xxup catch xxup up xxup but xxup we xxup ave 2 xxup find xxup more xxup time xxup more xxup xxunk xxup oh xxup well xxup take xxup care c u</td>\n",
              "      <td>ham</td>\n",
              "    </tr>\n",
              "  </tbody>\n",
              "</table>"
            ],
            "text/plain": [
              "<IPython.core.display.HTML object>"
            ]
          },
          "metadata": {}
        }
      ]
    },
    {
      "cell_type": "code",
      "metadata": {
        "id": "6sjwotSITjHi"
      },
      "source": [
        "# create the classifier\n",
        "learn_classifier = text_classifier_learner(data_clas, drop_mult=0.7, arch = AWD_LSTM)"
      ],
      "execution_count": null,
      "outputs": []
    },
    {
      "cell_type": "code",
      "metadata": {
        "id": "sfzqId9jTjHi",
        "colab": {
          "base_uri": "https://localhost:8080/"
        },
        "outputId": "cf8fd617-b2a0-4bf2-bed8-915a8aadd06c"
      },
      "source": [
        "# load language model\n",
        "learn_classifier.load_encoder('my_awsome_encoder')"
      ],
      "execution_count": null,
      "outputs": [
        {
          "output_type": "execute_result",
          "data": {
            "text/plain": [
              "RNNLearner(data=TextClasDataBunch;\n",
              "\n",
              "Train: LabelList (3343 items)\n",
              "x: TextList\n",
              "xxbos xxmaj wat time ü wan today ?,xxbos xxmaj ok lor ... xxmaj or u wan me go look 4 u ?,xxbos xxmaj customer place , i wil cal u sir .,xxbos xxup hi xxup darlin xxup ive xxup just xxup got xxup back xxup and i xxup had a xxup really xxup nice xxup night xxup and xxup thanks xxup so xxup much xxup for xxup the xxup lift xxup see u xxup tomo,xxbos xxup look xxup at xxup amy xxup ure a xxup beautiful , xxup intelligent xxup woman xxup and i xxup like u a xxup lot . i xxup know u xxup dont xxup like xxup me xxup like xxup that\n",
              "y: CategoryList\n",
              "ham,ham,ham,ham,ham\n",
              "Path: .;\n",
              "\n",
              "Valid: LabelList (1115 items)\n",
              "x: TextList\n",
              "xxbos xxmaj going for xxunk you after .,xxbos xxup im xxup fine xxup babes xxup xxunk xxup been xxup up 2 xxup much xxup tho ! xxup saw xxup xxunk xxup movie xxup yest xxup its xxup quite xxup funny ! xxup want xxup 2mrw xxup afternoon ? xxup at,xxbos xxmaj dude just saw a xxunk car with its xxunk popped up . xxmaj xxunk,xxbos xxmaj that is xxunk full xxunk .,xxbos xxmaj sorry , i 'll call later in meeting .\n",
              "y: CategoryList\n",
              "ham,ham,ham,ham,ham\n",
              "Path: .;\n",
              "\n",
              "Test: None, model=SequentialRNN(\n",
              "  (0): MultiBatchEncoder(\n",
              "    (module): AWD_LSTM(\n",
              "      (encoder): Embedding(2648, 400, padding_idx=1)\n",
              "      (encoder_dp): EmbeddingDropout(\n",
              "        (emb): Embedding(2648, 400, padding_idx=1)\n",
              "      )\n",
              "      (rnns): ModuleList(\n",
              "        (0): WeightDropout(\n",
              "          (module): LSTM(400, 1152, batch_first=True)\n",
              "        )\n",
              "        (1): WeightDropout(\n",
              "          (module): LSTM(1152, 1152, batch_first=True)\n",
              "        )\n",
              "        (2): WeightDropout(\n",
              "          (module): LSTM(1152, 400, batch_first=True)\n",
              "        )\n",
              "      )\n",
              "      (input_dp): RNNDropout()\n",
              "      (hidden_dps): ModuleList(\n",
              "        (0): RNNDropout()\n",
              "        (1): RNNDropout()\n",
              "        (2): RNNDropout()\n",
              "      )\n",
              "    )\n",
              "  )\n",
              "  (1): PoolingLinearClassifier(\n",
              "    (layers): Sequential(\n",
              "      (0): BatchNorm1d(1200, eps=1e-05, momentum=0.1, affine=True, track_running_stats=True)\n",
              "      (1): Dropout(p=0.27999999999999997, inplace=False)\n",
              "      (2): Linear(in_features=1200, out_features=50, bias=True)\n",
              "      (3): ReLU(inplace=True)\n",
              "      (4): BatchNorm1d(50, eps=1e-05, momentum=0.1, affine=True, track_running_stats=True)\n",
              "      (5): Dropout(p=0.1, inplace=False)\n",
              "      (6): Linear(in_features=50, out_features=2, bias=True)\n",
              "    )\n",
              "  )\n",
              "), opt_func=functools.partial(<class 'torch.optim.adam.Adam'>, betas=(0.9, 0.99)), loss_func=FlattenedLoss of CrossEntropyLoss(), metrics=[<function accuracy at 0x7fb74615f5f0>], true_wd=True, bn_wd=True, wd=0.01, train_bn=True, path=PosixPath('.'), model_dir='models', callback_fns=[functools.partial(<class 'fastai.basic_train.Recorder'>, add_time=True, silent=False)], callbacks=[RNNTrainer\n",
              "learn: ...\n",
              "alpha: 2.0\n",
              "beta: 1.0], layer_groups=[Sequential(\n",
              "  (0): Embedding(2648, 400, padding_idx=1)\n",
              "  (1): EmbeddingDropout(\n",
              "    (emb): Embedding(2648, 400, padding_idx=1)\n",
              "  )\n",
              "), Sequential(\n",
              "  (0): WeightDropout(\n",
              "    (module): LSTM(400, 1152, batch_first=True)\n",
              "  )\n",
              "  (1): RNNDropout()\n",
              "), Sequential(\n",
              "  (0): WeightDropout(\n",
              "    (module): LSTM(1152, 1152, batch_first=True)\n",
              "  )\n",
              "  (1): RNNDropout()\n",
              "), Sequential(\n",
              "  (0): WeightDropout(\n",
              "    (module): LSTM(1152, 400, batch_first=True)\n",
              "  )\n",
              "  (1): RNNDropout()\n",
              "), Sequential(\n",
              "  (0): PoolingLinearClassifier(\n",
              "    (layers): Sequential(\n",
              "      (0): BatchNorm1d(1200, eps=1e-05, momentum=0.1, affine=True, track_running_stats=True)\n",
              "      (1): Dropout(p=0.27999999999999997, inplace=False)\n",
              "      (2): Linear(in_features=1200, out_features=50, bias=True)\n",
              "      (3): ReLU(inplace=True)\n",
              "      (4): BatchNorm1d(50, eps=1e-05, momentum=0.1, affine=True, track_running_stats=True)\n",
              "      (5): Dropout(p=0.1, inplace=False)\n",
              "      (6): Linear(in_features=50, out_features=2, bias=True)\n",
              "    )\n",
              "  )\n",
              ")], add_time=True, silent=False)"
            ]
          },
          "metadata": {},
          "execution_count": 122
        }
      ]
    },
    {
      "cell_type": "code",
      "metadata": {
        "id": "yQzxgvqSTjHi",
        "colab": {
          "base_uri": "https://localhost:8080/",
          "height": 477
        },
        "outputId": "7831aff2-c1ef-4652-9eb6-8a57f5913747"
      },
      "source": [
        "# train classifier\n",
        "learn_classifier.lr_find()\n",
        "learn_classifier.recorder.plot(suggestion=True)"
      ],
      "execution_count": null,
      "outputs": [
        {
          "output_type": "display_data",
          "data": {
            "text/html": [
              "\n",
              "    <div>\n",
              "        <style>\n",
              "            /* Turns off some styling */\n",
              "            progress {\n",
              "                /* gets rid of default border in Firefox and Opera. */\n",
              "                border: none;\n",
              "                /* Needs to be in here for Safari polyfill so background images work as expected. */\n",
              "                background-size: auto;\n",
              "            }\n",
              "            .progress-bar-interrupted, .progress-bar-interrupted::-webkit-progress-bar {\n",
              "                background: #F44336;\n",
              "            }\n",
              "        </style>\n",
              "      <progress value='0' class='' max='1' style='width:300px; height:20px; vertical-align: middle;'></progress>\n",
              "      0.00% [0/1 00:00<00:00]\n",
              "    </div>\n",
              "    \n",
              "<table border=\"1\" class=\"dataframe\">\n",
              "  <thead>\n",
              "    <tr style=\"text-align: left;\">\n",
              "      <th>epoch</th>\n",
              "      <th>train_loss</th>\n",
              "      <th>valid_loss</th>\n",
              "      <th>accuracy</th>\n",
              "      <th>time</th>\n",
              "    </tr>\n",
              "  </thead>\n",
              "  <tbody>\n",
              "  </tbody>\n",
              "</table><p>\n",
              "\n",
              "    <div>\n",
              "        <style>\n",
              "            /* Turns off some styling */\n",
              "            progress {\n",
              "                /* gets rid of default border in Firefox and Opera. */\n",
              "                border: none;\n",
              "                /* Needs to be in here for Safari polyfill so background images work as expected. */\n",
              "                background-size: auto;\n",
              "            }\n",
              "            .progress-bar-interrupted, .progress-bar-interrupted::-webkit-progress-bar {\n",
              "                background: #F44336;\n",
              "            }\n",
              "        </style>\n",
              "      <progress value='96' class='' max='104' style='width:300px; height:20px; vertical-align: middle;'></progress>\n",
              "      92.31% [96/104 00:01<00:00 1.9336]\n",
              "    </div>\n",
              "    "
            ],
            "text/plain": [
              "<IPython.core.display.HTML object>"
            ]
          },
          "metadata": {}
        },
        {
          "output_type": "stream",
          "name": "stderr",
          "text": [
            "/usr/local/lib/python3.7/dist-packages/numpy/core/_asarray.py:83: VisibleDeprecationWarning: Creating an ndarray from ragged nested sequences (which is a list-or-tuple of lists-or-tuples-or ndarrays with different lengths or shapes) is deprecated. If you meant to do this, you must specify 'dtype=object' when creating the ndarray\n",
            "  return array(a, dtype, copy=False, order=order)\n",
            "<string>:6: VisibleDeprecationWarning: Creating an ndarray from ragged nested sequences (which is a list-or-tuple of lists-or-tuples-or ndarrays with different lengths or shapes) is deprecated. If you meant to do this, you must specify 'dtype=object' when creating the ndarray\n"
          ]
        },
        {
          "output_type": "stream",
          "name": "stdout",
          "text": [
            "LR Finder is complete, type {learner_name}.recorder.plot() to see the graph.\n",
            "Min numerical gradient: 6.92E-02\n",
            "Min loss divided by 10: 1.10E-01\n"
          ]
        },
        {
          "output_type": "display_data",
          "data": {
            "image/png": "[encoded data removed]",
            "text/plain": [
              "<Figure size 432x288 with 1 Axes>"
            ]
          },
          "metadata": {
            "needs_background": "light"
          }
        }
      ]
    },
    {
      "cell_type": "code",
      "metadata": {
        "id": "7boiRtwsTjHi",
        "colab": {
          "base_uri": "https://localhost:8080/",
          "height": 473
        },
        "outputId": "f9de8171-23eb-4f54-f9c9-94eefd142af4"
      },
      "source": [
        "learn_classifier.fit_one_cycle(5, max_lr=1e-2, moms=(0.8,0.7))"
      ],
      "execution_count": null,
      "outputs": [
        {
          "output_type": "display_data",
          "data": {
            "text/html": [
              "<table border=\"1\" class=\"dataframe\">\n",
              "  <thead>\n",
              "    <tr style=\"text-align: left;\">\n",
              "      <th>epoch</th>\n",
              "      <th>train_loss</th>\n",
              "      <th>valid_loss</th>\n",
              "      <th>accuracy</th>\n",
              "      <th>time</th>\n",
              "    </tr>\n",
              "  </thead>\n",
              "  <tbody>\n",
              "    <tr>\n",
              "      <td>0</td>\n",
              "      <td>0.414229</td>\n",
              "      <td>0.106559</td>\n",
              "      <td>0.967713</td>\n",
              "      <td>00:01</td>\n",
              "    </tr>\n",
              "    <tr>\n",
              "      <td>1</td>\n",
              "      <td>0.203180</td>\n",
              "      <td>0.087535</td>\n",
              "      <td>0.977578</td>\n",
              "      <td>00:01</td>\n",
              "    </tr>\n",
              "    <tr>\n",
              "      <td>2</td>\n",
              "      <td>0.141401</td>\n",
              "      <td>0.080654</td>\n",
              "      <td>0.976682</td>\n",
              "      <td>00:01</td>\n",
              "    </tr>\n",
              "    <tr>\n",
              "      <td>3</td>\n",
              "      <td>0.143445</td>\n",
              "      <td>0.078592</td>\n",
              "      <td>0.978475</td>\n",
              "      <td>00:01</td>\n",
              "    </tr>\n",
              "    <tr>\n",
              "      <td>4</td>\n",
              "      <td>0.127603</td>\n",
              "      <td>0.075568</td>\n",
              "      <td>0.978475</td>\n",
              "      <td>00:01</td>\n",
              "    </tr>\n",
              "  </tbody>\n",
              "</table>"
            ],
            "text/plain": [
              "<IPython.core.display.HTML object>"
            ]
          },
          "metadata": {}
        },
        {
          "output_type": "stream",
          "name": "stderr",
          "text": [
            "/usr/local/lib/python3.7/dist-packages/numpy/core/_asarray.py:83: VisibleDeprecationWarning: Creating an ndarray from ragged nested sequences (which is a list-or-tuple of lists-or-tuples-or ndarrays with different lengths or shapes) is deprecated. If you meant to do this, you must specify 'dtype=object' when creating the ndarray\n",
            "  return array(a, dtype, copy=False, order=order)\n",
            "<string>:6: VisibleDeprecationWarning: Creating an ndarray from ragged nested sequences (which is a list-or-tuple of lists-or-tuples-or ndarrays with different lengths or shapes) is deprecated. If you meant to do this, you must specify 'dtype=object' when creating the ndarray\n",
            "/usr/local/lib/python3.7/dist-packages/numpy/core/_asarray.py:83: VisibleDeprecationWarning: Creating an ndarray from ragged nested sequences (which is a list-or-tuple of lists-or-tuples-or ndarrays with different lengths or shapes) is deprecated. If you meant to do this, you must specify 'dtype=object' when creating the ndarray\n",
            "  return array(a, dtype, copy=False, order=order)\n",
            "<string>:6: VisibleDeprecationWarning: Creating an ndarray from ragged nested sequences (which is a list-or-tuple of lists-or-tuples-or ndarrays with different lengths or shapes) is deprecated. If you meant to do this, you must specify 'dtype=object' when creating the ndarray\n",
            "/usr/local/lib/python3.7/dist-packages/numpy/core/_asarray.py:83: VisibleDeprecationWarning: Creating an ndarray from ragged nested sequences (which is a list-or-tuple of lists-or-tuples-or ndarrays with different lengths or shapes) is deprecated. If you meant to do this, you must specify 'dtype=object' when creating the ndarray\n",
            "  return array(a, dtype, copy=False, order=order)\n",
            "<string>:6: VisibleDeprecationWarning: Creating an ndarray from ragged nested sequences (which is a list-or-tuple of lists-or-tuples-or ndarrays with different lengths or shapes) is deprecated. If you meant to do this, you must specify 'dtype=object' when creating the ndarray\n",
            "/usr/local/lib/python3.7/dist-packages/numpy/core/_asarray.py:83: VisibleDeprecationWarning: Creating an ndarray from ragged nested sequences (which is a list-or-tuple of lists-or-tuples-or ndarrays with different lengths or shapes) is deprecated. If you meant to do this, you must specify 'dtype=object' when creating the ndarray\n",
            "  return array(a, dtype, copy=False, order=order)\n",
            "<string>:6: VisibleDeprecationWarning: Creating an ndarray from ragged nested sequences (which is a list-or-tuple of lists-or-tuples-or ndarrays with different lengths or shapes) is deprecated. If you meant to do this, you must specify 'dtype=object' when creating the ndarray\n",
            "/usr/local/lib/python3.7/dist-packages/numpy/core/_asarray.py:83: VisibleDeprecationWarning: Creating an ndarray from ragged nested sequences (which is a list-or-tuple of lists-or-tuples-or ndarrays with different lengths or shapes) is deprecated. If you meant to do this, you must specify 'dtype=object' when creating the ndarray\n",
            "  return array(a, dtype, copy=False, order=order)\n",
            "<string>:6: VisibleDeprecationWarning: Creating an ndarray from ragged nested sequences (which is a list-or-tuple of lists-or-tuples-or ndarrays with different lengths or shapes) is deprecated. If you meant to do this, you must specify 'dtype=object' when creating the ndarray\n"
          ]
        }
      ]
    },
    {
      "cell_type": "code",
      "metadata": {
        "id": "ToR6na02TjHi",
        "colab": {
          "base_uri": "https://localhost:8080/",
          "height": 279
        },
        "outputId": "15042f8f-bb6f-4ed1-f98b-cbf3d4056528"
      },
      "source": [
        "learn_classifier.recorder.plot_losses()"
      ],
      "execution_count": null,
      "outputs": [
        {
          "output_type": "display_data",
          "data": {
            "image/png": "[encoded data removed]",
            "text/plain": [
              "<Figure size 432x288 with 1 Axes>"
            ]
          },
          "metadata": {
            "needs_background": "light"
          }
        }
      ]
    },
    {
      "cell_type": "code",
      "metadata": {
        "id": "BLHJl3oQTjHi",
        "colab": {
          "base_uri": "https://localhost:8080/",
          "height": 477
        },
        "outputId": "e79da804-3b41-40e9-86df-c4c7f8f97b4d"
      },
      "source": [
        "lang_mod.freeze_to(-1)\n",
        "\n",
        "learn_classifier.lr_find()\n",
        "learn_classifier.recorder.plot(suggestion=True)"
      ],
      "execution_count": null,
      "outputs": [
        {
          "output_type": "display_data",
          "data": {
            "text/html": [
              "\n",
              "    <div>\n",
              "        <style>\n",
              "            /* Turns off some styling */\n",
              "            progress {\n",
              "                /* gets rid of default border in Firefox and Opera. */\n",
              "                border: none;\n",
              "                /* Needs to be in here for Safari polyfill so background images work as expected. */\n",
              "                background-size: auto;\n",
              "            }\n",
              "            .progress-bar-interrupted, .progress-bar-interrupted::-webkit-progress-bar {\n",
              "                background: #F44336;\n",
              "            }\n",
              "        </style>\n",
              "      <progress value='0' class='' max='1' style='width:300px; height:20px; vertical-align: middle;'></progress>\n",
              "      0.00% [0/1 00:00<00:00]\n",
              "    </div>\n",
              "    \n",
              "<table border=\"1\" class=\"dataframe\">\n",
              "  <thead>\n",
              "    <tr style=\"text-align: left;\">\n",
              "      <th>epoch</th>\n",
              "      <th>train_loss</th>\n",
              "      <th>valid_loss</th>\n",
              "      <th>accuracy</th>\n",
              "      <th>time</th>\n",
              "    </tr>\n",
              "  </thead>\n",
              "  <tbody>\n",
              "  </tbody>\n",
              "</table><p>\n",
              "\n",
              "    <div>\n",
              "        <style>\n",
              "            /* Turns off some styling */\n",
              "            progress {\n",
              "                /* gets rid of default border in Firefox and Opera. */\n",
              "                border: none;\n",
              "                /* Needs to be in here for Safari polyfill so background images work as expected. */\n",
              "                background-size: auto;\n",
              "            }\n",
              "            .progress-bar-interrupted, .progress-bar-interrupted::-webkit-progress-bar {\n",
              "                background: #F44336;\n",
              "            }\n",
              "        </style>\n",
              "      <progress value='73' class='' max='104' style='width:300px; height:20px; vertical-align: middle;'></progress>\n",
              "      70.19% [73/104 00:00<00:00 0.1416]\n",
              "    </div>\n",
              "    "
            ],
            "text/plain": [
              "<IPython.core.display.HTML object>"
            ]
          },
          "metadata": {}
        },
        {
          "output_type": "stream",
          "name": "stderr",
          "text": [
            "/usr/local/lib/python3.7/dist-packages/numpy/core/_asarray.py:83: VisibleDeprecationWarning: Creating an ndarray from ragged nested sequences (which is a list-or-tuple of lists-or-tuples-or ndarrays with different lengths or shapes) is deprecated. If you meant to do this, you must specify 'dtype=object' when creating the ndarray\n",
            "  return array(a, dtype, copy=False, order=order)\n",
            "<string>:6: VisibleDeprecationWarning: Creating an ndarray from ragged nested sequences (which is a list-or-tuple of lists-or-tuples-or ndarrays with different lengths or shapes) is deprecated. If you meant to do this, you must specify 'dtype=object' when creating the ndarray\n"
          ]
        },
        {
          "output_type": "stream",
          "name": "stdout",
          "text": [
            "LR Finder is complete, type {learner_name}.recorder.plot() to see the graph.\n",
            "Min numerical gradient: 7.59E-07\n",
            "Min loss divided by 10: 2.75E-03\n"
          ]
        },
        {
          "output_type": "display_data",
          "data": {
            "image/png": "[encoded data removed]",
            "text/plain": [
              "<Figure size 432x288 with 1 Axes>"
            ]
          },
          "metadata": {
            "needs_background": "light"
          }
        }
      ]
    },
    {
      "cell_type": "markdown",
      "metadata": {
        "id": "ZyADkr6yTyG9"
      },
      "source": [
        "Test out the classification model on spam and non-spam examples."
      ]
    },
    {
      "cell_type": "code",
      "metadata": {
        "colab": {
          "base_uri": "https://localhost:8080/"
        },
        "id": "Y_KKaOnrTjHj",
        "outputId": "bd5c95e3-19d2-4064-f206-6405ef11ba88"
      },
      "source": [
        "# predict\n",
        "learn_classifier.predict('did you buy the groceries for dinner? :)')"
      ],
      "execution_count": null,
      "outputs": [
        {
          "output_type": "execute_result",
          "data": {
            "text/plain": [
              "(Category tensor(0), tensor(0), tensor([9.9997e-01, 2.7530e-05]))"
            ]
          },
          "metadata": {},
          "execution_count": 127
        }
      ]
    },
    {
      "cell_type": "code",
      "metadata": {
        "colab": {
          "base_uri": "https://localhost:8080/"
        },
        "id": "A8Xv4N9STjHj",
        "outputId": "e40a56a3-1511-4d30-b830-e842ae415f5e"
      },
      "source": [
        "# predict\n",
        "learn_classifier.predict('Free entry call back now')"
      ],
      "execution_count": null,
      "outputs": [
        {
          "output_type": "execute_result",
          "data": {
            "text/plain": [
              "(Category tensor(1), tensor(1), tensor([0.2125, 0.7875]))"
            ]
          },
          "metadata": {},
          "execution_count": 128
        }
      ]
    },
    {
      "cell_type": "markdown",
      "metadata": {
        "id": "gcUOVjveT8Xu"
      },
      "source": [
        "Next we will evaluate on all of our validation data."
      ]
    },
    {
      "cell_type": "code",
      "metadata": {
        "colab": {
          "base_uri": "https://localhost:8080/",
          "height": 33
        },
        "id": "jkvU1PvTTjHj",
        "outputId": "01ee5041-beec-4dac-fe83-680746fbc694"
      },
      "source": [
        "# get predictions from validation\n",
        "valid_preds, valid_label=learn_classifier.get_preds(ds_type=DatasetType.Valid, ordered=True)\n",
        "valid_preds.shape"
      ],
      "execution_count": null,
      "outputs": [
        {
          "output_type": "display_data",
          "data": {
            "text/html": [
              ""
            ],
            "text/plain": [
              "<IPython.core.display.HTML object>"
            ]
          },
          "metadata": {}
        },
        {
          "output_type": "execute_result",
          "data": {
            "text/plain": [
              "torch.Size([1115, 2])"
            ]
          },
          "metadata": {},
          "execution_count": 129
        }
      ]
    },
    {
      "cell_type": "code",
      "metadata": {
        "colab": {
          "base_uri": "https://localhost:8080/"
        },
        "id": "KSnTh5S3y7Cs",
        "outputId": "b6a608b2-afdd-46ce-a4c7-1411bdcc6605"
      },
      "source": [
        "valid_label"
      ],
      "execution_count": null,
      "outputs": [
        {
          "output_type": "execute_result",
          "data": {
            "text/plain": [
              "tensor([0, 0, 0,  ..., 1, 1, 1])"
            ]
          },
          "metadata": {},
          "execution_count": 130
        }
      ]
    },
    {
      "cell_type": "markdown",
      "metadata": {
        "id": "s4UopYcrWw38"
      },
      "source": [
        "## Part 1. Evaluate Performance [10pt]\n",
        "\n",
        "### Part (a) [5pt]\n",
        "\n",
        "Implement the above helper code for spam detection. \n",
        "\n",
        "What is the accuracy obtained with ULMFiT? How does ULMFiT compare to the approach in the first part using only LSTM?"
      ]
    },
    {
      "cell_type": "code",
      "metadata": {
        "id": "_X87t_0fn50D"
      },
      "source": [
        "from sklearn.metrics import accuracy_score"
      ],
      "execution_count": null,
      "outputs": []
    },
    {
      "cell_type": "code",
      "metadata": {
        "colab": {
          "base_uri": "https://localhost:8080/",
          "height": 415
        },
        "id": "dOQ1S6MFD9RD",
        "outputId": "a938e9aa-4f0b-42b6-def0-ca74032d2cd6"
      },
      "source": [
        "df_test"
      ],
      "execution_count": null,
      "outputs": [
        {
          "output_type": "execute_result",
          "data": {
            "text/html": [
              "<div>\n",
              "<style scoped>\n",
              "    .dataframe tbody tr th:only-of-type {\n",
              "        vertical-align: middle;\n",
              "    }\n",
              "\n",
              "    .dataframe tbody tr th {\n",
              "        vertical-align: top;\n",
              "    }\n",
              "\n",
              "    .dataframe thead th {\n",
              "        text-align: right;\n",
              "    }\n",
              "</style>\n",
              "<table border=\"1\" class=\"dataframe\">\n",
              "  <thead>\n",
              "    <tr style=\"text-align: right;\">\n",
              "      <th></th>\n",
              "      <th>target</th>\n",
              "      <th>text</th>\n",
              "    </tr>\n",
              "  </thead>\n",
              "  <tbody>\n",
              "    <tr>\n",
              "      <th>0</th>\n",
              "      <td>ham</td>\n",
              "      <td>Are you sure you don't mean \"get here, we made...</td>\n",
              "    </tr>\n",
              "    <tr>\n",
              "      <th>1</th>\n",
              "      <td>ham</td>\n",
              "      <td>Today is \"song dedicated day..\" Which song wil...</td>\n",
              "    </tr>\n",
              "    <tr>\n",
              "      <th>2</th>\n",
              "      <td>ham</td>\n",
              "      <td>A few people are at the game, I'm at the mall ...</td>\n",
              "    </tr>\n",
              "    <tr>\n",
              "      <th>3</th>\n",
              "      <td>ham</td>\n",
              "      <td>Take us out shopping and Mark will distract Is...</td>\n",
              "    </tr>\n",
              "    <tr>\n",
              "      <th>4</th>\n",
              "      <td>ham</td>\n",
              "      <td>U come n search tat vid..not finishd..</td>\n",
              "    </tr>\n",
              "    <tr>\n",
              "      <th>...</th>\n",
              "      <td>...</td>\n",
              "      <td>...</td>\n",
              "    </tr>\n",
              "    <tr>\n",
              "      <th>1109</th>\n",
              "      <td>spam</td>\n",
              "      <td>FREE for 1st week! No1 Nokia tone 4 ur mob eve...</td>\n",
              "    </tr>\n",
              "    <tr>\n",
              "      <th>1110</th>\n",
              "      <td>spam</td>\n",
              "      <td>Someone has contacted our dating service and e...</td>\n",
              "    </tr>\n",
              "    <tr>\n",
              "      <th>1111</th>\n",
              "      <td>spam</td>\n",
              "      <td>England v Macedonia - dont miss the goals/team...</td>\n",
              "    </tr>\n",
              "    <tr>\n",
              "      <th>1112</th>\n",
              "      <td>spam</td>\n",
              "      <td>SMSSERVICES. for yourinclusive text credits, p...</td>\n",
              "    </tr>\n",
              "    <tr>\n",
              "      <th>1113</th>\n",
              "      <td>spam</td>\n",
              "      <td>FreeMsg: Fancy a flirt? Reply DATE now &amp; join ...</td>\n",
              "    </tr>\n",
              "  </tbody>\n",
              "</table>\n",
              "<p>1114 rows × 2 columns</p>\n",
              "</div>"
            ],
            "text/plain": [
              "     target                                               text\n",
              "0       ham  Are you sure you don't mean \"get here, we made...\n",
              "1       ham  Today is \"song dedicated day..\" Which song wil...\n",
              "2       ham  A few people are at the game, I'm at the mall ...\n",
              "3       ham  Take us out shopping and Mark will distract Is...\n",
              "4       ham             U come n search tat vid..not finishd..\n",
              "...     ...                                                ...\n",
              "1109   spam  FREE for 1st week! No1 Nokia tone 4 ur mob eve...\n",
              "1110   spam  Someone has contacted our dating service and e...\n",
              "1111   spam  England v Macedonia - dont miss the goals/team...\n",
              "1112   spam  SMSSERVICES. for yourinclusive text credits, p...\n",
              "1113   spam  FreeMsg: Fancy a flirt? Reply DATE now & join ...\n",
              "\n",
              "[1114 rows x 2 columns]"
            ]
          },
          "metadata": {},
          "execution_count": 132
        }
      ]
    },
    {
      "cell_type": "code",
      "metadata": {
        "id": "HO2QixOGwc1v"
      },
      "source": [
        "df_test['spam_pred'] = df_test['text'].apply(lambda row:str(learn_classifier.predict(row)[0]))"
      ],
      "execution_count": null,
      "outputs": []
    },
    {
      "cell_type": "code",
      "metadata": {
        "colab": {
          "base_uri": "https://localhost:8080/"
        },
        "id": "EPdRhu3fhLv4",
        "outputId": "f60c9bbf-fc52-4a95-d6a6-22fbc0bdbaae"
      },
      "source": [
        "print(\"Accuracy: {}\".format(accuracy_score(df_test['target'],df_test['spam_pred'])))"
      ],
      "execution_count": null,
      "outputs": [
        {
          "output_type": "stream",
          "name": "stdout",
          "text": [
            "Accuracy: 0.9829443447037702\n"
          ]
        }
      ]
    },
    {
      "cell_type": "markdown",
      "metadata": {
        "id": "3o-mhCbdUv_6"
      },
      "source": [
        "**ANSWER:**\n",
        "\n",
        "The ULMfit model got a higher accuracy 98% on the test data than the LSTM model which got 96%. Which is expected as the ULMfit model was pre-trained with millions of data as oposed to the LSTM model which was only trained on 6000+ sms's which is also composed of duplicate spam sms making it lack variety.\n"
      ]
    },
    {
      "cell_type": "code",
      "metadata": {
        "id": "fVR02dCtL_Fm"
      },
      "source": [
        ""
      ],
      "execution_count": null,
      "outputs": []
    },
    {
      "cell_type": "markdown",
      "metadata": {
        "id": "ybdyEKx5Ww4F"
      },
      "source": [
        "### Part (b) [5pt]\n",
        "Provide a confusion matrix of the performance for the two models. How do they compare? Are there any qualitative differences between the performances (i.e. examine the samples for which the models differred)?"
      ]
    },
    {
      "cell_type": "code",
      "metadata": {
        "id": "vuxLCHhFWw4F"
      },
      "source": [
        "import matplotlib.pyplot as plt\n",
        "from sklearn.metrics import confusion_matrix\n",
        "# Taken from the scikit-learn documentation\n",
        "def plot_confusion_matrix(y_true, y_pred, classes,\n",
        "                          normalize=False,\n",
        "                          title=None,\n",
        "                          cmap=plt.cm.Blues):\n",
        "    \"\"\"\n",
        "    This function prints and plots the confusion matrix.\n",
        "    Normalization can be applied by setting `normalize=True`.\n",
        "    \"\"\"\n",
        "    if not title:\n",
        "        if normalize:\n",
        "            title = 'Normalized confusion matrix'\n",
        "        else:\n",
        "            title = 'Confusion matrix, without normalization'\n",
        "\n",
        "    # Compute confusion matrix\n",
        "    cm = confusion_matrix(y_true, y_pred)\n",
        "    # Only use the labels that appear in the data\n",
        "    #classes = classes[unique_labels(y_true, y_pred)]\n",
        "\n",
        "    fig, ax = plt.subplots()\n",
        "    im = ax.imshow(cm, interpolation='nearest', cmap=cmap)\n",
        "    ax.figure.colorbar(im, ax=ax)\n",
        "    # We want to show all ticks...\n",
        "    ax.set(xticks=np.arange(cm.shape[1]),\n",
        "           yticks=np.arange(cm.shape[0]),\n",
        "           # ... and label them with the respective list entries\n",
        "           xticklabels=classes, yticklabels=classes,\n",
        "           title=title,\n",
        "           ylabel='True label',\n",
        "           xlabel='Predicted label')\n",
        "\n",
        "    # Rotate the tick labels and set their alignment.\n",
        "    plt.setp(ax.get_xticklabels(), ha=\"right\",\n",
        "             rotation_mode=\"anchor\")\n",
        "\n",
        "    # Loop over data dimensions and create text annotations.\n",
        "    fmt = '.2f' if normalize else 'd'\n",
        "    thresh = cm.max() / 2.\n",
        "    for i in range(cm.shape[0]):\n",
        "        for j in range(cm.shape[1]):\n",
        "            ax.text(j, i, format(cm[i, j], fmt),\n",
        "                    ha=\"center\", va=\"center\",\n",
        "                    color=\"white\" if cm[i, j] > thresh else \"black\")\n",
        "    fig.tight_layout()\n",
        "    return ax"
      ],
      "execution_count": null,
      "outputs": []
    },
    {
      "cell_type": "code",
      "metadata": {
        "colab": {
          "base_uri": "https://localhost:8080/",
          "height": 297
        },
        "id": "TMxsvbEN3m9j",
        "outputId": "be55aea6-fe88-4ecf-8cce-78b029bdba41"
      },
      "source": [
        "# plot the confusion matrix for the test set using the ULMFit Model\n",
        "plot_confusion_matrix(df_test['target'],df_test['spam_pred'],\n",
        "                      classes=['ham','spam'])\n",
        "plt.show()"
      ],
      "execution_count": null,
      "outputs": [
        {
          "output_type": "display_data",
          "data": {
            "image/png": "[encoded data removed]",
            "text/plain": [
              "<Figure size 432x288 with 2 Axes>"
            ]
          },
          "metadata": {
            "needs_background": "light"
          }
        }
      ]
    },
    {
      "cell_type": "code",
      "metadata": {
        "id": "fBJemXjIbw4E"
      },
      "source": [
        "# Getting all the prediction values \n",
        "def get_all_preds(model,loader):\n",
        "  all_preds = torch.tensor([])\n",
        "  for message, labels in loader:\n",
        "    preds = model(message[0].to(device))\n",
        "    all_preds = torch.cat(\n",
        "        (all_preds.to(device),preds.to(device)),dim=0\n",
        "    )\n",
        "  return all_preds\n"
      ],
      "execution_count": null,
      "outputs": []
    },
    {
      "cell_type": "code",
      "metadata": {
        "id": "ISEiFj1Dezpj"
      },
      "source": [
        "# Getting all the labels\n",
        "def get_all_labels(loader):\n",
        "  all_labels = torch.tensor([])\n",
        "  for message, labels in loader:\n",
        "    all_labels = torch.cat(\n",
        "        (all_labels,labels),dim=0\n",
        "    )\n",
        "  return all_labels"
      ],
      "execution_count": null,
      "outputs": []
    },
    {
      "cell_type": "code",
      "metadata": {
        "id": "--mikZdZZzTp"
      },
      "source": [
        "# The best model is run on the test data to calculate the confusion matrix\n",
        "data_loader = torchtext.legacy.data.BucketIterator(test,\n",
        "                                           batch_size=32,\n",
        "                                           sort_key=lambda x: len(x.sms), \n",
        "                                           sort_within_batch=True,        \n",
        "                                           repeat=False)   \n",
        "\n",
        "best_model = LSTM_drop(input_size, hidden_size = 250, num_classes = 2).to(device)\n",
        "best_model_path = \"/content/model_LSTM_drop\"\n",
        "state = torch.load(best_model_path)\n",
        "best_model.load_state_dict(state)\n",
        "\n",
        "preds = get_all_preds(best_model,data_loader)\n",
        "labels = get_all_labels(data_loader)"
      ],
      "execution_count": null,
      "outputs": []
    },
    {
      "cell_type": "code",
      "metadata": {
        "colab": {
          "base_uri": "https://localhost:8080/",
          "height": 297
        },
        "id": "V1akJ53ETxuM",
        "outputId": "3cc95d5e-a8ad-46d3-cc57-e9b1a606f2d6"
      },
      "source": [
        "# Plotting the confusion matrix\n",
        "plot_confusion_matrix(labels.cpu(),preds.argmax(dim=1).cpu(),classes=['ham','spam'])\n",
        "test_accuracy = get_accuracy(best_model, test, batch_size = 32)"
      ],
      "execution_count": null,
      "outputs": [
        {
          "output_type": "display_data",
          "data": {
            "image/png": "[encoded data removed]",
            "text/plain": [
              "<Figure size 432x288 with 2 Axes>"
            ]
          },
          "metadata": {
            "needs_background": "light"
          }
        }
      ]
    },
    {
      "cell_type": "markdown",
      "metadata": {
        "id": "2Hs2gSyEWE-c"
      },
      "source": [
        "**ANSWER:**\n",
        "\n",
        "The ULMfit model performed much better than the LSTM model. The LSTM model failed to correctly classify most spam messages, whereas the ULMfit model did a much better job. This is because the LSTM model's dataset was imbalanced and had to be trained on duplicates of spam messages which didn't help the model to generalize very well."
      ]
    },
    {
      "cell_type": "code",
      "metadata": {
        "id": "M9xDyMhhiMuE"
      },
      "source": [
        ""
      ],
      "execution_count": null,
      "outputs": []
    },
    {
      "cell_type": "code",
      "metadata": {
        "id": "O9npSwNKiMxm"
      },
      "source": [
        ""
      ],
      "execution_count": null,
      "outputs": []
    },
    {
      "cell_type": "code",
      "metadata": {
        "id": "98fWyT8tiM1u"
      },
      "source": [
        ""
      ],
      "execution_count": null,
      "outputs": []
    },
    {
      "cell_type": "markdown",
      "metadata": {
        "id": "F9BpSLGBWw4F"
      },
      "source": [
        "## Part 2. Evaluate on New Data [10pt]\n",
        "\n",
        "### Part (a) [4pt]\n",
        "What is your model's prediction of the probability that the SMS message \"machine learning is sooo cool!\" is spam?"
      ]
    },
    {
      "cell_type": "code",
      "metadata": {
        "colab": {
          "base_uri": "https://localhost:8080/"
        },
        "id": "SMYTGWi8XQ0A",
        "outputId": "fb0600df-780c-4eae-d3d5-6d98ac5eb755"
      },
      "source": [
        "msg = \"machine learning is sooo cool!\"\n",
        "pred = learn_classifier.predict(msg)\n",
        "print('The probability of the message',msg ,'being spam is', pred[2:3][0][1])\n",
        "print('The probability that the message',msg,'being ham is', pred[2:3][0][0])"
      ],
      "execution_count": null,
      "outputs": [
        {
          "output_type": "stream",
          "name": "stdout",
          "text": [
            "The probability of the message machine learning is sooo cool! being spam is tensor(0.0001)\n",
            "The probability that the message machine learning is sooo cool! being ham is tensor(0.9999)\n"
          ]
        }
      ]
    },
    {
      "cell_type": "markdown",
      "metadata": {
        "id": "H4FlSj_Mn2yY"
      },
      "source": [
        "### Part (b) [3 pt] \n",
        "Load 5 sample sentences from your spam mail and test it out out the two models you created. How well do they perform?"
      ]
    },
    {
      "cell_type": "code",
      "metadata": {
        "colab": {
          "base_uri": "https://localhost:8080/"
        },
        "id": "zKq6wgYzJJ2i",
        "outputId": "8b629e28-80d2-4078-ba55-b97615b4f7b7"
      },
      "source": [
        "msg = [\"Congratulations! You have won 100$ Walmart Gift Card\", \"UP TO 70% OFF on Clothing for Men , Women & Kids MANY MORE\",\n",
        "       \"Urgent! Your grandson was arrested last night at Mexico. Need Bail money immediately Western Union Wire 9500$\",\"Get 50% off with our limited-time, year-end offer on the premium ProtonVPN Plus plan.\",\n",
        "       \"Congratulations! You recieved 3 bitcoins. Register to claim your reward\"]\n",
        "for m in msg:\n",
        "  pred = learn_classifier.predict(m)\n",
        "  print('The probability of the message',m ,'being spam is', pred[2:3][0][1])\n",
        "  print('The probability that the message', m,'being ham is', pred[2:3][0][0])"
      ],
      "execution_count": null,
      "outputs": [
        {
          "output_type": "stream",
          "name": "stdout",
          "text": [
            "The probability of the message Congratulations! You have won 100$ Walmart Gift Card being spam is tensor(0.9683)\n",
            "The probability that the message Congratulations! You have won 100$ Walmart Gift Card being ham is tensor(0.0317)\n",
            "The probability of the message UP TO 70% OFF on Clothing for Men , Women & Kids MANY MORE being spam is tensor(0.6176)\n",
            "The probability that the message UP TO 70% OFF on Clothing for Men , Women & Kids MANY MORE being ham is tensor(0.3824)\n",
            "The probability of the message Urgent! Your grandson was arrested last night at Mexico. Need Bail money immediately Western Union Wire 9500$ being spam is tensor(0.9621)\n",
            "The probability that the message Urgent! Your grandson was arrested last night at Mexico. Need Bail money immediately Western Union Wire 9500$ being ham is tensor(0.0379)\n",
            "The probability of the message Get 50% off with our limited-time, year-end offer on the premium ProtonVPN Plus plan. being spam is tensor(0.5875)\n",
            "The probability that the message Get 50% off with our limited-time, year-end offer on the premium ProtonVPN Plus plan. being ham is tensor(0.4125)\n",
            "The probability of the message Congratulations! You recieved 3 bitcoins. Register to claim your reward being spam is tensor(0.4447)\n",
            "The probability that the message Congratulations! You recieved 3 bitcoins. Register to claim your reward being ham is tensor(0.5553)\n"
          ]
        }
      ]
    },
    {
      "cell_type": "code",
      "metadata": {
        "id": "y3DCyMW_n05f",
        "colab": {
          "base_uri": "https://localhost:8080/"
        },
        "outputId": "1e52c15d-b64b-4c0c-8fea-6de6c8ef4d5e"
      },
      "source": [
        "msg = [\"Congratulations! You have won 100$ Walmart Gift Card\", \"UP TO 70% OFF on Clothing for Men , Women & Kids MANY MORE\",\n",
        "       \"Urgent! Your grandson was arrested last night at Mexico. Need Bail money immediately Western Union Wire 9500$\",\"Get 50% off with our limited-time, year-end offer on the premium ProtonVPN Plus plan.\",\n",
        "       \"Congratulations! You recieved 3 bitcoins. Register to claim your reward\"]\n",
        "\n",
        "best_model = LSTM_drop(input_size, hidden_size = 250, num_classes = 2).to(device)\n",
        "best_model_path = \"/content/model_LSTM_drop\"\n",
        "state = torch.load(best_model_path)\n",
        "best_model.load_state_dict(state)\n",
        "\n",
        "# print(text_field.vocab.stoi)\n",
        "msg_list = []\n",
        "for index in range(0, len(msg)):\n",
        "    print(msg[index])\n",
        "    msg_list.append(text_field.vocab.stoi[msg[index]])\n",
        "    test_message = torch.LongTensor([msg_list])\n",
        "    pred = best_model(test_message)\n",
        "    a = pred[0][1]\n",
        "    prob_of_spam = np.exp(float(pred[0][1])) / (np.exp(float(pred[0][0])) + np.exp(float(pred[0][1])))\n",
        "    print(index+1,\") The probability of the message to be spam is:\", prob_of_spam)"
      ],
      "execution_count": null,
      "outputs": [
        {
          "output_type": "stream",
          "name": "stdout",
          "text": [
            "Congratulations! You have won 100$ Walmart Gift Card\n",
            "1 ) The probability of the message to be spam is: 0.0783375479202827\n",
            "UP TO 70% OFF on Clothing for Men , Women & Kids MANY MORE\n",
            "2 ) The probability of the message to be spam is: 0.05072879267782883\n",
            "Urgent! Your grandson was arrested last night at Mexico. Need Bail money immediately Western Union Wire 9500$\n",
            "3 ) The probability of the message to be spam is: 0.03317250117514608\n",
            "Get 50% off with our limited-time, year-end offer on the premium ProtonVPN Plus plan.\n",
            "4 ) The probability of the message to be spam is: 0.028817955016967014\n",
            "Congratulations! You recieved 3 bitcoins. Register to claim your reward\n",
            "5 ) The probability of the message to be spam is: 0.021275418739681296\n"
          ]
        }
      ]
    },
    {
      "cell_type": "markdown",
      "metadata": {
        "id": "OGpK6ooyW8q7"
      },
      "source": [
        "**ANSWER:**\n",
        "\n",
        "The ULMfit model got 4/5 correct, whereas the LSTM model performed poorly on all 5 sample sentences. Again, this is because the model is classifying most of the data as ham, which also explains why it got a high accuracy score close to ULMfit. However, the model is not good at detecting spam messages."
      ]
    },
    {
      "cell_type": "markdown",
      "metadata": {
        "id": "646WjsAwWw4F"
      },
      "source": [
        "### Part (c) [3pt]\n",
        "Load 5 sample sentences from your regular mail and test it out out the two models you created. How well do they perform?"
      ]
    },
    {
      "cell_type": "code",
      "metadata": {
        "colab": {
          "base_uri": "https://localhost:8080/"
        },
        "id": "SBXYimr5yGFZ",
        "outputId": "1f3b4861-e2c2-4bee-94d9-bc45315fd430"
      },
      "source": [
        "msg = [\"Meghan, Duchess of Sussex seeks 'saintly rebrand\",\"How do you guys not procrastinate?\",\n",
        "       'is it worth staking Ethereum?','Image Angle Detection using Neural Networks | Shiva Verma','How was your GATE 2020 result?']\n",
        "for m in msg:\n",
        "  pred = learn_classifier.predict(m)\n",
        "  print('The probability of the message',m ,'being spam is', pred[2:3][0][1])\n",
        "  print('The probability that the message', m,'being ham is', pred[2:3][0][0])"
      ],
      "execution_count": null,
      "outputs": [
        {
          "output_type": "stream",
          "name": "stdout",
          "text": [
            "The probability of the message Meghan, Duchess of Sussex seeks 'saintly rebrand being spam is tensor(0.1411)\n",
            "The probability that the message Meghan, Duchess of Sussex seeks 'saintly rebrand being ham is tensor(0.8589)\n",
            "The probability of the message How do you guys not procrastinate? being spam is tensor(6.7346e-05)\n",
            "The probability that the message How do you guys not procrastinate? being ham is tensor(0.9999)\n",
            "The probability of the message is it worth staking Ethereum? being spam is tensor(0.0644)\n",
            "The probability that the message is it worth staking Ethereum? being ham is tensor(0.9356)\n",
            "The probability of the message Image Angle Detection using Neural Networks | Shiva Verma being spam is tensor(0.2246)\n",
            "The probability that the message Image Angle Detection using Neural Networks | Shiva Verma being ham is tensor(0.7754)\n",
            "The probability of the message How was your GATE 2020 result? being spam is tensor(0.0203)\n",
            "The probability that the message How was your GATE 2020 result? being ham is tensor(0.9797)\n"
          ]
        }
      ]
    },
    {
      "cell_type": "code",
      "metadata": {
        "id": "0OvvnW8OWw4G",
        "colab": {
          "base_uri": "https://localhost:8080/"
        },
        "outputId": "2c22bab5-1d80-4a8b-b173-317657597ef1"
      },
      "source": [
        "msg = [\"Meghan, Duchess of Sussex seeks 'saintly rebrand\",\"How do you guys not procrastinate?\",\n",
        "       'is it worth staking Ethereum?','Image Angle Detection using Neural Networks | Shiva Verma','How was your GATE 2020 result?']\n",
        "\n",
        "best_model = LSTM_drop(input_size, hidden_size = 250, num_classes = 2).to(device)\n",
        "best_model_path = \"/content/model_LSTM_drop\"\n",
        "state = torch.load(best_model_path)\n",
        "best_model.load_state_dict(state)\n",
        "\n",
        "# print(text_field.vocab.stoi)\n",
        "msg_list = []\n",
        "for index in range(0, len(msg)):\n",
        "    print(msg[index])\n",
        "    msg_list.append(text_field.vocab.stoi[msg[index]])\n",
        "    test_message = torch.LongTensor([msg_list])\n",
        "    pred = best_model(test_message)\n",
        "    a = pred[0][1]\n",
        "    prob_of_spam = np.exp(float(pred[0][1])) / (np.exp(float(pred[0][0])) + np.exp(float(pred[0][1])))\n",
        "    print(index+1,\") The probability of the message to be spam is:\", prob_of_spam)"
      ],
      "execution_count": null,
      "outputs": [
        {
          "output_type": "stream",
          "name": "stdout",
          "text": [
            "Meghan, Duchess of Sussex seeks 'saintly rebrand\n",
            "1 ) The probability of the message to be spam is: 0.10414650737617259\n",
            "How do you guys not procrastinate?\n",
            "2 ) The probability of the message to be spam is: 0.059390177905806696\n",
            "is it worth staking Ethereum?\n",
            "3 ) The probability of the message to be spam is: 0.04494483289212672\n",
            "Image Angle Detection using Neural Networks | Shiva Verma\n",
            "4 ) The probability of the message to be spam is: 0.040053674246204936\n",
            "How was your GATE 2020 result?\n",
            "5 ) The probability of the message to be spam is: 0.025583391796379383\n"
          ]
        }
      ]
    },
    {
      "cell_type": "markdown",
      "metadata": {
        "id": "B490VaQ_X1TM"
      },
      "source": [
        "**ANSWER:**\n",
        "\n",
        "\n",
        "Here the ULMfit performed very well and got all the sentences right, and the LSTM model also labeled them correctly as the model is skewed towards labeling all sentences as ham. The model could be improved if we have more varied examples of spam datasets."
      ]
    },
    {
      "cell_type": "markdown",
      "metadata": {
        "id": "FYwI4RmFS2RB"
      },
      "source": [
        "### Saving to HTML\n",
        "Detailed instructions for saving to HTML can be found <a href=\"https://stackoverflow.com/questions/53460051/convert-ipynb-notebook-to-html-in-google-colab/64487858#64487858\">here</a>. Provided below are a summary of the instructions:\n",
        "\n",
        "(1) download your ipynb file by clicking on File->Download.ipynb\n",
        "\n",
        "(2) reupload your file to the temporary Google Colab storage (you can access the temporary storage from the tab to the left)\n",
        "\n",
        "(3) run the following:"
      ]
    },
    {
      "cell_type": "code",
      "metadata": {
        "id": "2TrsqdNgS5ex",
        "colab": {
          "base_uri": "https://localhost:8080/"
        },
        "outputId": "e696eaf2-7310-4d00-fb05-5761f8570246"
      },
      "source": [
        "%%shell\n",
        "jupyter nbconvert --to html LAB_4_Sequential_Data.ipynb"
      ],
      "execution_count": null,
      "outputs": [
        {
          "output_type": "stream",
          "name": "stdout",
          "text": [
            "[NbConvertApp] Converting notebook LAB_4_Sequential_Data.ipynb to html\n",
            "[NbConvertApp] Writing 978843 bytes to LAB_4_Sequential_Data.html\n"
          ]
        },
        {
          "output_type": "execute_result",
          "data": {
            "text/plain": [
              ""
            ]
          },
          "metadata": {},
          "execution_count": 153
        }
      ]
    },
    {
      "cell_type": "markdown",
      "metadata": {
        "id": "nuXhlFlPTY7F"
      },
      "source": [
        "(4) the html file will be available for download in the temporary Google Colab storage\n",
        "\n",
        "(5) review the html file and make sure all the results are visible before submitting your assignment to Quercus"
      ]
    }
  ]
}